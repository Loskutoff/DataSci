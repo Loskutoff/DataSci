{
  "cells": [
    {
      "metadata": {
        "cell_id": "24fae2aa-bc9b-4983-9845-1f7954743985",
        "tags": []
      },
      "cell_type": "markdown",
      "source": "# 2C: Presidential Tweeting"
    },
    {
      "metadata": {
        "cell_id": "a6cd10f5-3d09-40ac-80a9-bc32d9a38c74",
        "trusted": true
      },
      "cell_type": "code",
      "source": "# Run this code to load the required packages\nsuppressMessages(suppressWarnings(suppressPackageStartupMessages({\n  library(mosaic)\n  library(supernova)\n  library(fivethirtyeight)\n})))",
      "execution_count": null,
      "outputs": []
    },
    {
      "metadata": {
        "cell_id": "96758c2d-d07a-4ae1-bb41-7def06afe3b2"
      },
      "cell_type": "markdown",
      "source": "Let’s start with a data set called `twitter_presidents` from [FiveThirtyEight](http://fivethirtyeight.com/). If you want to know more information about these variables at any time, google: `twitter_presidents r documentation`. "
    },
    {
      "metadata": {
        "cell_id": "932caf5d-13b6-47bd-87c0-88c1c2493757"
      },
      "cell_type": "markdown",
      "source": "1. What’s in this data? What is this data about? (For now, let’s try to figure out as much as we can just by trying to look at the data using R.)"
    },
    {
      "metadata": {
        "cell_id": "570ec90f-2d39-40e3-ba49-57a61932f94b",
        "scrolled": true,
        "trusted": true
      },
      "cell_type": "code",
      "source": "# Write some code here.",
      "execution_count": null,
      "outputs": []
    },
    {
      "metadata": {
        "cell_id": "586b1098-479c-4b6b-afb3-acf154c34596"
      },
      "cell_type": "markdown",
      "source": "2. Just out of curiosity, how many tweets did each president have? "
    },
    {
      "metadata": {
        "cell_id": "4052a368-fb5f-4301-908a-83c9631b59ff",
        "trusted": true
      },
      "cell_type": "code",
      "source": "# Write some code here.",
      "execution_count": null,
      "outputs": []
    },
    {
      "metadata": {
        "cell_id": "c386f574-c60a-4a3e-9ff0-9386f694c46c"
      },
      "cell_type": "markdown",
      "source": "3. Which president had the most favorited tweet? What was that tweet about? "
    },
    {
      "metadata": {
        "cell_id": "3eb7d7b2-0e7d-4ffd-a0f8-cfd0f0f3bbf3",
        "trusted": true
      },
      "cell_type": "code",
      "source": "# Write some code here.",
      "execution_count": null,
      "outputs": []
    },
    {
      "metadata": {
        "cell_id": "11624c92-ee6d-4295-9354-b32d21d83262"
      },
      "cell_type": "markdown",
      "source": "4. What are some questions that might be interesting to explore using this data set? (No need to constrain yourselves to the stuff we can do so far…)\n\n\n- List questions here\n- and here!"
    },
    {
      "metadata": {
        "cell_id": "6f05b76b-fa2a-412a-97da-361f370d8779",
        "tags": []
      },
      "cell_type": "markdown",
      "source": "### By default, please close and halt!"
    }
  ],
  "metadata": {
    "deepnote_execution_queue": [],
    "deepnote_notebook_id": "ef5e09bc-96b4-49d8-af88-5f1671831ab9",
    "kernelspec": {
      "name": "ir",
      "display_name": "R",
      "language": "R"
    },
    "language_info": {
      "name": "R",
      "codemirror_mode": "r",
      "pygments_lexer": "r",
      "mimetype": "text/x-r-source",
      "file_extension": ".r",
      "version": "3.6.3"
    }
  },
  "nbformat": 4,
  "nbformat_minor": 2
}