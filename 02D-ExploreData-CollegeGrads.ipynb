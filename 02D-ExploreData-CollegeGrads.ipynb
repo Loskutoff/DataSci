{
  "cells": [
    {
      "metadata": {
        "cell_id": "8f024cda-9000-411e-aa1b-b84c40555dee",
        "tags": []
      },
      "cell_type": "markdown",
      "source": "# 2D: Data on College Majors "
    },
    {
      "metadata": {
        "cell_id": "7cc27359-0ffb-4d98-93f0-d01ad5673a63",
        "trusted": true
      },
      "cell_type": "code",
      "source": "# Run this code to load the required packages\nsuppressMessages(suppressWarnings(suppressPackageStartupMessages({\n  library(mosaic)\n  library(supernova)\n  library(fivethirtyeight)\n})))",
      "execution_count": null,
      "outputs": []
    },
    {
      "metadata": {
        "cell_id": "2aa89660-7cb4-44ef-a207-f1413ded39cd"
      },
      "cell_type": "markdown",
      "source": "There are a lot of reasons why people pick the major they pick. Future earnings and job security are just a few of them. What do the data look like on the job prospects of different college majors out there?\n\nLet’s start with a data set called `college_recent_grads` from [FiveThirtyEight](http://fivethirtyeight.com/) that was the basis of this article: [The Economic Guide to Picking a College Major](https://fivethirtyeight.com/features/the-economic-guide-to-picking-a-college-major/). \n\n"
    },
    {
      "metadata": {
        "cell_id": "ed6374b5-eac6-4fc4-a52d-21a6aeb171f8"
      },
      "cell_type": "markdown",
      "source": "1. Run some code to take a look at a bit of the dataframe. What are the cases? Are there any variables that look interesting to you?"
    },
    {
      "metadata": {
        "cell_id": "3ca64c19-4d1a-436d-b869-551e9ace89ff",
        "scrolled": true,
        "trusted": true
      },
      "cell_type": "code",
      "source": "# Write some code here.",
      "execution_count": null,
      "outputs": []
    },
    {
      "metadata": {
        "cell_id": "e77ddf8f-2df0-4965-98a4-d0e4ef42574a",
        "tags": []
      },
      "cell_type": "markdown",
      "source": "Here is a bit more information about the `college_recent_grads` data frame. It contains 173 rows representing majors (recent graduates) and 21 variables:\n\n- `rank` Rank by median earnings\n- `major_code` Major code, FO1DP in ACS PUMS\n- `major` Major description\n- `major_category` Category of major from Carnevale et al\n- `total` Total number of people with major\n- `sample_size` Sample size (unweighted) of full-time, year-round ONLY (used for earnings)\n- `men` Men with major\n- `women` Women with major\n- `sharewomen` Proportion women\n- `employed` Number employed (ESR == 1 or 2)\n- `employed_fulltime` Employed 35 hours or more\n- `employed_parttime` Employed less than 35 hours\n- `employed_fulltime_yearround` Employed at least 50 weeks (WKW == 1) and at least 35 hours (WKHP >= 35)\n- `unemployed` Number unemployed (ESR == 3)\n- `unemployment_rate` Unemployed / (Unemployed + Employed)\n- `p25th` 25th percentile of earnings\n- `median` Median earnings of full-time, year-round workers\n- `p75th` 75th percentile of earnings\n- `college_jobs` Number with job requiring a college degree\n- `non_college_jobs` Number with job not requiring a college degree\n- `low_wage_jobs` Number in low-wage service jobs"
    },
    {
      "metadata": {
        "cell_id": "db9d0fbe-265f-487e-b08d-d99730372751"
      },
      "cell_type": "markdown",
      "source": "2. Try print out the names of all the majors. Which one(s) are interesting to you? Do you already have a major in mind? Do you see it in the list?"
    },
    {
      "metadata": {
        "cell_id": "0a965932-d42f-4447-b7e0-8f92c943cbe4"
      },
      "cell_type": "markdown",
      "source": "3. What does this bit of code do? Modify it to look up information for one major you are interested in. Did you find out anything interesting about that major?"
    },
    {
      "metadata": {
        "cell_id": "2c223e9a-1e83-42aa-a928-d3a963b24ac6",
        "trusted": true
      },
      "cell_type": "code",
      "source": "filter(college_recent_grads, major == \"Court Reporting\")",
      "execution_count": null,
      "outputs": []
    },
    {
      "metadata": {
        "cell_id": "1518cc56-29ef-4906-a0ec-5b05586da183"
      },
      "cell_type": "markdown",
      "source": "4. Out of the variables in `college_recent_grads`, which is the variable you are most interested in maximizing when trying to pick a major? What are the top 10 majors for that variable? Do you see any common themes?"
    },
    {
      "metadata": {
        "cell_id": "8443c493-bad0-49fa-95dd-5613260ae9c1",
        "tags": []
      },
      "cell_type": "markdown",
      "source": "5. Out of the variables in `college_recent_grads`, which is the variable you are most interested in **minimizing** when trying to pick a major? What are the 10 majors are lowest on that variable? Do you see any common themes?"
    },
    {
      "metadata": {
        "cell_id": "bdca877e-1c04-4b27-a9c6-3f7ba6947f76",
        "tags": []
      },
      "cell_type": "markdown",
      "source": "6. How many majors graduate more women than men? How many majors have more employed than unemployeed recent graduates?"
    },
    {
      "metadata": {
        "cell_id": "ec406833-d80e-4579-a14f-7b54bd8481cb",
        "tags": []
      },
      "cell_type": "markdown",
      "source": "### By default, please close and halt!"
    }
  ],
  "metadata": {
    "deepnote_execution_queue": [],
    "deepnote_notebook_id": "9805d7ae-ba79-4559-aecd-d631c2cc1081",
    "kernelspec": {
      "name": "ir",
      "display_name": "R",
      "language": "R"
    },
    "language_info": {
      "name": "R",
      "codemirror_mode": "r",
      "pygments_lexer": "r",
      "mimetype": "text/x-r-source",
      "file_extension": ".r",
      "version": "3.6.3"
    }
  },
  "nbformat": 4,
  "nbformat_minor": 2
}