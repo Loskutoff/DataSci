{
  "cells": [
    {
      "metadata": {
        "cell_id": "04852188-3fd1-40ff-8f76-1dc04cd0212a"
      },
      "cell_type": "markdown",
      "source": "# 2B: Tidy Data"
    },
    {
      "metadata": {
        "cell_id": "1016cb36-22b5-4106-a563-3d83de3e6dbd",
        "tags": []
      },
      "cell_type": "markdown",
      "source": "*Note to Instructors: Skip to 02C if your class didn't do 02A (gummy bear launching activity).*"
    },
    {
      "metadata": {
        "cell_id": "e6c170d1-00b5-4900-b89a-b2a79dc47585",
        "trusted": true
      },
      "cell_type": "code",
      "source": "# Run this code to load the R Packages\nsuppressMessages(suppressWarnings(suppressPackageStartupMessages({\n  library(mosaic)\n  library(supernova)})))",
      "execution_count": null,
      "outputs": []
    },
    {
      "metadata": {
        "cell_id": "e5430c27-dd0e-4c36-a828-5f58e632082e"
      },
      "cell_type": "markdown",
      "source": "## 1.0 - Our Data: From a list to a spreadsheet\n\nIn our last lesson (2A), we built catapults for launching gummy bears with the goal of trying to understand what makes the gummies launch the farthest. We’ve collected a lot of useful and interesting data to help us out, but, right now, that data is just listed on sheets of paper. "
    },
    {
      "metadata": {
        "cell_id": "eab9ce9e-9c32-4922-a6cb-5afda086d7c8"
      },
      "cell_type": "markdown",
      "source": "1.1 - In groups, put the data in this spreadsheet: (Teachers should create a spreadsheet set up [like this](https://docs.google.com/spreadsheets/d/11HDp43wemtCuI1xFvKQCyxM5b6yvzDdsYG3yvih7u0M/edit?usp=sharing) and assign groups a number)"
    },
    {
      "metadata": {
        "cell_id": "0bf93a15-4b98-404d-b601-ee96cacbf291"
      },
      "cell_type": "markdown",
      "source": "## 2.0 - Reflecting on our Spreadsheets"
    },
    {
      "metadata": {
        "cell_id": "f680c67d-4c3a-4daa-a27b-88a3fbdde186"
      },
      "cell_type": "markdown",
      "source": "2.1 - Let’s see if we have put the data into the spreadsheet in a way that can be analyzed by R.  Does your data meet the definition of tidy data? \n\nAs a reminder, here are the three principles of tidy data:\n\n- Each column is a variable\n- Each row is an observation (also called a case, research unit, or an object; all these words mean the same thing)\n- Each type of observation is kept in a different table"
    },
    {
      "metadata": {
        "cell_id": "19676e24-6b33-4e26-9265-92ff36855f57"
      },
      "cell_type": "markdown",
      "source": "2.2 - A few other data science and statistics classes have done this exercise before. One of these classes had an average distance of 20.05 cm from all their flying gummy bears. According to tidy data principles, how would we put this data into our data frame (the one we created in our spreadsheet)? If your group thinks of a way, try to enter this data into your spreadsheet."
    },
    {
      "metadata": {
        "cell_id": "4af404d5-4050-45e5-8ec1-8648d5dab3de"
      },
      "cell_type": "markdown",
      "source": "## 3.0 - From spreadsheet to data frame"
    },
    {
      "metadata": {
        "cell_id": "1786aa52-0eb9-4f50-a4a1-de1351f0d820"
      },
      "cell_type": "markdown",
      "source": "3.1 - Now let’s try to put this data in R."
    },
    {
      "metadata": {
        "cell_id": "25908d72-af9f-4620-8d69-843994c6c106",
        "tags": [],
        "trusted": true
      },
      "cell_type": "code",
      "source": "# Write some code here.",
      "execution_count": null,
      "outputs": []
    },
    {
      "metadata": {
        "cell_id": "d6be86ed-fa8a-478b-b341-4d30fbf56843",
        "tags": []
      },
      "cell_type": "markdown",
      "source": "3.2 - Do you notice any issues? Are there things we should fix in the spreadsheet? "
    },
    {
      "metadata": {
        "cell_id": "436a6a33-fd8b-4bc3-90c9-c68d71059a28"
      },
      "cell_type": "markdown",
      "source": "## 4.0 - Exploring the data"
    },
    {
      "metadata": {
        "cell_id": "9888fc3e-6236-414f-a941-94b91d253c6f"
      },
      "cell_type": "markdown",
      "source": "4.1 - Which of the variables might be important in launching the gummy bear farther? Which of these variables probably has nothing to do with how far the gummy bear gets launched?\n"
    },
    {
      "metadata": {
        "cell_id": "e3549060-5e20-4334-96b5-88d05598dcf0"
      },
      "cell_type": "markdown",
      "source": "Soon, we will learn the skills to explore our data with visualizations and number summaries. We will revisit our data at that time to see what more we can do with it!\n\n### By default, please close and halt!"
    }
  ],
  "metadata": {
    "deepnote_execution_queue": [],
    "deepnote_notebook_id": "4331b0ca-9263-4911-927a-fc257e9bdf39",
    "kernelspec": {
      "name": "ir",
      "display_name": "R",
      "language": "R"
    },
    "language_info": {
      "name": "R",
      "codemirror_mode": "r",
      "pygments_lexer": "r",
      "mimetype": "text/x-r-source",
      "file_extension": ".r",
      "version": "3.6.3"
    }
  },
  "nbformat": 4,
  "nbformat_minor": 2
}