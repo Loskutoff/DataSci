{
 "cells": [
  {
   "cell_type": "markdown",
   "metadata": {
    "cell_id": "8aa62795-5c4d-48fb-943e-32ea248066d7",
    "deepnote_cell_type": "markdown"
   },
   "source": [
    "# 3A: Art and Math - Exploring Variation and the DGP"
   ]
  },
  {
   "cell_type": "code",
   "execution_count": null,
   "metadata": {
    "cell_id": "100c85d9-5fa2-4b93-adf8-76a7e20c46c7",
    "deepnote_cell_type": "code",
    "output_cleared": false
   },
   "outputs": [],
   "source": [
    "# This code will load the R packages we will use\n",
    "\n",
    "suppressPackageStartupMessages({\n",
    "    library(mosaic)\n",
    "    library(supernova)\n",
    "    library(fivethirtyeight)\n",
    "    library(Lock5withR)})\n",
    "\n",
    "font_size = function (size) {\n",
    "    theme(text = element_text(size = size))}"
   ]
  },
  {
   "cell_type": "markdown",
   "metadata": {
    "cell_id": "61ac59d0-97d0-47d9-9931-a6f326f000d1",
    "deepnote_cell_type": "markdown"
   },
   "source": [
    "## 1.0 - Where are our eyes?\n",
    "\n",
    "<img src=\"https://i.imgur.com/dJgmIbz.png\" title=\"a sketch of a head\" width = 20% align = \"left\" valign = \"bottom\"/> \n",
    "When people are taught to sketch faces, they are told to place the eyes at the midline of the head (see picture). This sometimes strikes people as wrong because they think the eyes are slightly above the midline of the head. What do you think about this idea?\n"
   ]
  },
  {
   "cell_type": "markdown",
   "metadata": {
    "cell_id": "0d587652-d128-4b87-a659-50b333f5f98e",
    "deepnote_cell_type": "markdown"
   },
   "source": [
    "## 2.0 - Head Sketch Survey Data\n",
    "\n",
    "To help us put this artistic advice to the test, some students from Cal State LA have collected some data by measuring their heads. The whole survey can be found here: [Head Sketch Survey](https://docs.google.com/document/d/10X8G1BPz0nlEi409VV4LuORQNKf8LG4oCeB4wHhZN5Q/edit).\n",
    "\n",
    "First, students were asked to guess whether their eyes were at their midline (before measuring). Then they measured their heads with a centimeter ruler. They filled in these boxes.\n",
    "\n",
    "|                                               |                                           | \n",
    "|-----------------------------------------------|-------------------------------------------| \n",
    "|   <img src=\"https://imgur.com/8O6tz2e.png\" title=\"Students saw an oval representing a head and had to fill in the length of their head (if their chin was considered 0 centimeters) and calculate the midline.\" width = \"100%\"/>  |   <img src=\"https://imgur.com/0RWl1kR.png\" title=\"Students were also asked how much higher their eyes were relative to midline.\" width = \"100%\"/>   | \n",
    "\n",
    "Afterwards, they had a partner measure their heads for them. \n"
   ]
  },
  {
   "cell_type": "code",
   "execution_count": null,
   "metadata": {
    "cell_id": "22f2dbf7-f1b9-4422-bd43-97a76d85f646",
    "deepnote_cell_type": "code",
    "execution_millis": 1291,
    "execution_start": 1605837276768,
    "output_cleared": false,
    "source_hash": "ffe8e1e1"
   },
   "outputs": [],
   "source": [
    "# Run this code to save the csv file into a data frame\n",
    "# Why doesn't it print anything?\n",
    "\n",
    "tidyheads <- read.csv(\"https://docs.google.com/spreadsheets/d/e/2PACX-1vTJaUfRbLITc3EKByD3oDD4PhwfPBTN6FdAnCJUukTQwfd_k8ZGOzFj8wWwPIc1tw9XvJkPxz7k41zV/pub?output=csv\", header = TRUE)\n"
   ]
  },
  {
   "cell_type": "markdown",
   "metadata": {
    "cell_id": "f10e8ac9-2e87-4d96-9725-a0272a16824c",
    "deepnote_cell_type": "markdown"
   },
   "source": [
    "Here are the variables you will find in this data frame:\n",
    "\n",
    "- `Participant` The participant number for each person\n",
    "- `Head` Length of head in cm (self-measured)\n",
    "- `Midline` How high up the midline should be in cm (self-measured)\n",
    "- `EyesHigherMid` How much higher than the midline the eyes are in cm (self-measured)\n",
    "- `EyeLevel` How high up the eyes are relative to chin in cm (self-measured)\n",
    "- `Head2` Length of head in cm (partner-measured)\n",
    "- `Midline2` How high up the midline should be in cm (partner-measured)\n",
    "- `EyesHigherMid2` How much higher than the midline the eyes are in cm (partner-measured)\n",
    "- `Height` Height in cm\n",
    "- `EyeThink` Whether students thought their eyes were basically at, above, or below the midline of their head (before measuring)\n",
    "- `EyeActual` Whether students’ eyes were actually at, above, or below the midline of their head (after measuring) based on their self-measurements\n"
   ]
  },
  {
   "cell_type": "markdown",
   "metadata": {
    "cell_id": "4352f2d4-03cf-4477-aca2-2bb3b835dd27",
    "deepnote_cell_type": "markdown"
   },
   "source": [
    "2.1 - Which of the variables might help us explore the idea that our eyes are at the midline of our face? "
   ]
  },
  {
   "cell_type": "code",
   "execution_count": null,
   "metadata": {
    "cell_id": "00007-4c55eb17-37de-4f17-af3e-4f51ec455b07",
    "deepnote_cell_type": "code",
    "tags": []
   },
   "outputs": [],
   "source": [
    "# Write some R code to take a look at the values for that variable (or those variables). \n",
    "# What do you notice?\n"
   ]
  },
  {
   "cell_type": "markdown",
   "metadata": {
    "cell_id": "8613b413-1d4a-4572-91c4-dffdbb4e4648",
    "deepnote_cell_type": "markdown"
   },
   "source": [
    "## 3.0 - Exploring and Describing the Data"
   ]
  },
  {
   "cell_type": "markdown",
   "metadata": {
    "cell_id": "cbbe7650-289f-47db-bbf7-a543aa79217d",
    "deepnote_cell_type": "markdown"
   },
   "source": [
    "3.1 - Which of these variables can we explore with a histogram: `EyesHigherMid` or `EyeActual`? If you aren’t sure, go ahead and try out a little bit of R code."
   ]
  },
  {
   "cell_type": "markdown",
   "metadata": {
    "cell_id": "7073dbd1-427f-469e-965f-0417bc970795",
    "deepnote_cell_type": "markdown"
   },
   "source": [
    "3.2 - Create a histogram with that variable (feel free to play around with arguments and chain markers such as color, fill, labels, density curves, bins, and binwidth!)."
   ]
  },
  {
   "cell_type": "markdown",
   "metadata": {
    "cell_id": "5effdf7c-9afa-4976-a5a5-415c65bb40fb",
    "deepnote_cell_type": "markdown"
   },
   "source": [
    "3.3 - Why does this distribution look like this? Does this help us explore whether our eyes are generally around the midline of our face? "
   ]
  },
  {
   "cell_type": "markdown",
   "metadata": {
    "cell_id": "7aa9dfdd-961b-4055-bc7b-818e6680e070",
    "deepnote_cell_type": "markdown"
   },
   "source": [
    "## 4.0 - Cleaning the Data"
   ]
  },
  {
   "cell_type": "markdown",
   "metadata": {
    "cell_id": "714e8fe3-96ac-4820-8cc1-522d84f67e34",
    "deepnote_cell_type": "markdown"
   },
   "source": [
    "4.1 - What can we do to better explore the idea that our eyes are around the midline of our face? \n",
    "\n",
    "(Hint: You might want to check out the variables `EyesHigherMid` and `EyeActual`. If you clean your data up, save your new variable as `EyesHigherMid.clean`.)"
   ]
  },
  {
   "cell_type": "markdown",
   "metadata": {
    "cell_id": "943087dd-beb7-44fc-827b-f9581d717d14",
    "deepnote_cell_type": "markdown"
   },
   "source": [
    "4.2 - What does the data tell you about the “eyes at midline” artistic advice?"
   ]
  },
  {
   "cell_type": "markdown",
   "metadata": {
    "cell_id": "2a43ced5-c67e-4c22-9c71-e7d80540b718",
    "deepnote_cell_type": "markdown"
   },
   "source": [
    "## 5.0 - Thinking about the DGP and Different Samples\n",
    "\n",
    "|    With Mistakes                                           |     Without Mistakes                                      | \n",
    "|-----------------------------------------------|-------------------------------------------| \n",
    "|   <img src=\"https://imgur.com/DQWEHm5.png\" title = \"temp\" width = \"90%\"> |  <img src=\"https://imgur.com/ZBy8fD8.png\" width = \"90%\"> |\n"
   ]
  },
  {
   "cell_type": "markdown",
   "metadata": {
    "cell_id": "727fc670-3887-4017-9fcb-527a064cd711",
    "deepnote_cell_type": "markdown"
   },
   "source": [
    "5.1 - If a different class of college students measured how much higher their eyes are above the midline, would the distribution of their data be similar? Would it be more similar to the one with mistakes or the one without mistakes? How would it be similar/different? \n"
   ]
  },
  {
   "cell_type": "markdown",
   "metadata": {
    "cell_id": "7525e4f0-9655-428d-a7f9-9bd8d3112047",
    "deepnote_cell_type": "markdown"
   },
   "source": [
    "5.2 - Notice that you have a little theory about the Data Generating Process (DGP)! That even if people’s eyes are not actually 12 cm above the midline, we will still see those data. What is our little theory about people?\n"
   ]
  },
  {
   "cell_type": "markdown",
   "metadata": {
    "cell_id": "9a9a4ee2-1f05-4ff7-868b-83e1a3303d24",
    "deepnote_cell_type": "markdown"
   },
   "source": [
    "5.3 - We know that even if people basically act in the same way, a new sample of data won’t come out exactly the same. How different could samples be? We can use R to mock up a DGP that creates samples similar to our actual data. \n",
    "\n",
    "Try running the following code, what is it doing? "
   ]
  },
  {
   "cell_type": "code",
   "execution_count": null,
   "metadata": {
    "cell_id": "ddd35940-8e58-4c9e-ad1f-f5867c43556b",
    "deepnote_cell_type": "code",
    "scrolled": true
   },
   "outputs": [],
   "source": [
    "newsample <- resample(tidyheads, 3)\n",
    "newsample"
   ]
  },
  {
   "cell_type": "markdown",
   "metadata": {
    "cell_id": "3b156c31-c84a-4eb1-8759-6e8ef82da9b9",
    "deepnote_cell_type": "markdown"
   },
   "source": [
    "5.4 - Modify the code below to pretend to do this little study again with another 18 students. How would we take a look at the new distribution of `EyesHigherMid`? "
   ]
  },
  {
   "cell_type": "code",
   "execution_count": null,
   "metadata": {
    "cell_id": "40985fc2-99f5-49b3-ac58-e597723d2d1b",
    "deepnote_cell_type": "code",
    "tags": []
   },
   "outputs": [],
   "source": [
    "newsample <- resample(tidyheads, 3)\n"
   ]
  },
  {
   "cell_type": "markdown",
   "metadata": {
    "cell_id": "72d35c44-3119-402b-b0e6-6fd90f9273aa",
    "deepnote_cell_type": "markdown"
   },
   "source": [
    "5.5 - Run the code you wrote above a few times. What do you notice? What changes across these simulated samples? What stays the same?"
   ]
  },
  {
   "cell_type": "markdown",
   "metadata": {
    "cell_id": "0fbe3b10-e9c2-4fb7-9dc1-48679a193d02",
    "deepnote_cell_type": "markdown"
   },
   "source": [
    "## 6.0 - Resample versus Sample"
   ]
  },
  {
   "cell_type": "markdown",
   "metadata": {
    "cell_id": "fa5725d7-52ff-4edd-9d1c-7eea5e3bd310",
    "deepnote_cell_type": "markdown"
   },
   "source": [
    "6.1 - In addition to the function `resample()` there is another function called `sample()` that is very similar. Here we have copied and pasted the code from above. But this time, modify it to create a new sample with the function `sample()` instead of `resample()`. "
   ]
  },
  {
   "cell_type": "code",
   "execution_count": null,
   "metadata": {
    "cell_id": "8893a3c3-8a5a-4e35-ae8c-7f4c1f9daf2e",
    "deepnote_cell_type": "code",
    "tags": []
   },
   "outputs": [],
   "source": [
    "newsample <- resample(tidyheads, 18)\n",
    "\n",
    "gf_histogram(~ EyesHigherMid, data = newsample, color = \"put in a color here\")"
   ]
  },
  {
   "cell_type": "markdown",
   "metadata": {
    "cell_id": "3f4f60af-62f7-45d2-b26c-723e5f9408ac",
    "deepnote_cell_type": "markdown"
   },
   "source": [
    "6.2 - Run it a few times. What do you notice? Does it change? Why or why not? What’s different about sample and resample?"
   ]
  },
  {
   "cell_type": "markdown",
   "metadata": {
    "cell_id": "14e2aa21-6d2a-43e5-8b08-798ad6db35c5",
    "deepnote_cell_type": "markdown"
   },
   "source": [
    "6.3 - Could we use `sample()` to pretend to do this study again with 100 students? Could we use `resample()`? Try them to see what happens."
   ]
  },
  {
   "cell_type": "markdown",
   "metadata": {
    "cell_id": "45472a0a-ae99-406c-8a91-7322dca68fd9",
    "deepnote_cell_type": "markdown",
    "tags": []
   },
   "source": [
    "6.4 - Try resampling with 18, 100, or 5000 students. Which of these looks the most like the sample that we started out with? Why?"
   ]
  },
  {
   "cell_type": "code",
   "execution_count": null,
   "metadata": {
    "cell_id": "de526a1c-741d-47bb-88d9-5d61da6a646d",
    "deepnote_cell_type": "code",
    "tags": []
   },
   "outputs": [],
   "source": [
    "newsample <- resample(tidyheads, 18)\n",
    "\n",
    "gf_histogram(~ EyesHigherMid, data = newsample, color = \"put in a color here\")"
   ]
  },
  {
   "cell_type": "markdown",
   "metadata": {
    "cell_id": "de84779f-b44c-44e0-9b0f-2e61442307c7",
    "deepnote_cell_type": "markdown"
   },
   "source": [
    "## 7.0 - Reflect and Connect\n"
   ]
  },
  {
   "cell_type": "markdown",
   "metadata": {
    "cell_id": "1e8a74d2-fbd1-4c66-8469-8caacb1cd8c1",
    "deepnote_cell_type": "markdown"
   },
   "source": [
    "7.1 - How did the shapes of the distributions we looked at today connect to the data generating process?\n"
   ]
  },
  {
   "cell_type": "markdown",
   "metadata": {
    "cell_id": "4142ce64-9a33-4019-886a-875eccc86388",
    "deepnote_cell_type": "markdown",
    "tags": []
   },
   "source": [
    "### By default, please close and halt!"
   ]
  },
  {
   "cell_type": "markdown",
   "metadata": {
    "created_in_deepnote_cell": true,
    "deepnote_cell_type": "markdown",
    "tags": []
   },
   "source": [
    "<a style='text-decoration:none;line-height:16px;display:flex;color:#5B5B62;padding:10px;justify-content:end;' href='https://deepnote.com?utm_source=created-in-deepnote-cell&projectId=b397dcc9-fa0e-422f-bc9c-1a96cd02ab2e' target=\"_blank\">\n",
    "<img style='display:inline;max-height:16px;margin:0px;margin-right:7.5px;' src='data:image/svg+xml;base64,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' > </img>\n",
    "Created in <span style='font-weight:600;margin-left:4px;'>Deepnote</span></a>"
   ]
  }
 ],
 "metadata": {
  "deepnote": {},
  "deepnote_execution_queue": [],
  "deepnote_notebook_id": "16c8918a-5e55-4043-9b08-35bae835b3a1",
  "kernelspec": {
   "display_name": "R",
   "language": "R",
   "name": "ir"
  },
  "language_info": {
   "codemirror_mode": "r",
   "file_extension": ".r",
   "mimetype": "text/x-r-source",
   "name": "R",
   "pygments_lexer": "r",
   "version": "3.6.3"
  },
  "nbsimplegrader": {
   "is_published": false,
   "publish_config": {
    "classes": [],
    "options": [],
    "tools": []
   }
  }
 },
 "nbformat": 4,
 "nbformat_minor": 2
}
