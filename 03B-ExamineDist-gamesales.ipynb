{
 "cells": [
  {
   "cell_type": "markdown",
   "metadata": {
    "cell_id": "e167ba1c-9c1a-498f-9ba9-e6b543f9982a",
    "deepnote_cell_type": "markdown",
    "output_cleared": false
   },
   "source": [
    "# 3B: Variation in Video Game \"Goodness\""
   ]
  },
  {
   "cell_type": "code",
   "execution_count": null,
   "metadata": {
    "cell_id": "5f42976d-4b1a-442e-876c-00dc3cd465f8",
    "deepnote_cell_type": "code",
    "execution_millis": 2783,
    "execution_start": 1605772943923,
    "output_cleared": false,
    "source_hash": "9d70ea66"
   },
   "outputs": [],
   "source": [
    "# This code will load the R packages we will use\n",
    "\n",
    "suppressPackageStartupMessages({\n",
    "    library(mosaic)\n",
    "    library(supernova)\n",
    "    library(fivethirtyeight)\n",
    "    library(Lock5withR)})\n",
    "\n",
    "font_size = function (size) {\n",
    "    theme(text = element_text(size = size))}"
   ]
  },
  {
   "cell_type": "markdown",
   "metadata": {
    "cell_id": "38f02a7c-f6ce-460b-b248-9dc8860444e9",
    "deepnote_cell_type": "markdown",
    "output_cleared": false
   },
   "source": [
    "## 1.0 - Thinking about the Question"
   ]
  },
  {
   "cell_type": "markdown",
   "metadata": {
    "cell_id": "ccee63e2-ed08-4c26-a7ba-28574ba2c6e9",
    "deepnote_cell_type": "markdown",
    "output_cleared": false
   },
   "source": [
    "1.1 - Any gamer will tell you there is a lot of variation in how \"good\" a game is. What are some ways we could measure how “good” a game is? "
   ]
  },
  {
   "cell_type": "markdown",
   "metadata": {
    "cell_id": "f5b1acb0-c4c3-4637-87de-8574a2e564d1",
    "deepnote_cell_type": "markdown",
    "output_cleared": false
   },
   "source": [
    "1.2 - Try using functions such as `head()` to take a look at the following data set (called `gamesales`). (You can also try `str()` or `glimpse()` to look at the data frame a little differently.)\n",
    "\n",
    "The data frame `gamesales` contains 17416 rows describing games with the following variables: \n",
    "- `Name` - The video game's name\n",
    "- `Platform` - Platform of the games release\n",
    "- `Year_of_Release` - Year of the game's release\n",
    "- `Genre` - Genre of the game\n",
    "- `Publisher` - Publisher of the game\n",
    "- `NA_Sales` - Sales in North America (in millions)\n",
    "- `EU_Sales` - Sales in Europe (in millions)\n",
    "- `JP_Sales` - Sales in Japan (in millions)\n",
    "- `Other_Sales` - Sales in the rest of the world (in millions)\n",
    "- `Global_Sales` - Total worldwide sales (in millions)\n",
    "- `Critic_Score` - Aggregate score compiled by Metacritic staff\n",
    "- `Critic_Count` - The number of critics used in coming up with the critic score\n",
    "- `User_Score` - Score by Metacritic's subscribers\n",
    "- `User_Count` - Number of users who gave the user score\n",
    "- `Rating` - The ESRB ratings (Entertainment Software Rating Board)"
   ]
  },
  {
   "cell_type": "code",
   "execution_count": null,
   "metadata": {
    "cell_id": "0ebc3398-4133-4ad2-a514-80b231951265",
    "deepnote_cell_type": "code",
    "execution_millis": 883,
    "execution_start": 1605772946712,
    "output_cleared": false,
    "source_hash": "6defe716",
    "tags": []
   },
   "outputs": [],
   "source": [
    "# Run this code to import the data frame \n",
    "\n",
    "gamesales_csv_link <- \"https://docs.google.com/spreadsheets/d/e/2PACX-1vRxgnDw4jgU7XkqCp6iZHsBsOe7JQbAjsjJePsoKpllu_KntXdXp1wbY2PocCzdiFOQZ7Bq8IrgLpXz/pub?gid=487723921&single=true&output=csv\"\n",
    "gamesales <- read.csv(gamesales_csv_link, header = TRUE) \n",
    "\n",
    "# Use functions such as head() or str() to take a look at gamesales\n",
    "# Write the code here\n",
    "\n",
    "head(gamesales)"
   ]
  },
  {
   "cell_type": "markdown",
   "metadata": {
    "cell_id": "00006-92532338-79aa-49a6-b88f-26ddafe046c8",
    "deepnote_cell_type": "markdown",
    "output_cleared": false,
    "tags": []
   },
   "source": [
    "1.3 - Which of the variables in `gamesales` might be a good way to measure how “good” a game is? What are the pros and cons of using that measure of “goodness”? "
   ]
  },
  {
   "cell_type": "markdown",
   "metadata": {
    "cell_id": "7b65c2d5-f4a7-481d-872a-8a204392dae1",
    "deepnote_cell_type": "markdown",
    "output_cleared": false
   },
   "source": [
    "## 2.0 - How Critics Rate Video Games"
   ]
  },
  {
   "cell_type": "markdown",
   "metadata": {
    "cell_id": "890c467f-f3ef-46bb-9759-5dee3b7a96a7",
    "deepnote_cell_type": "markdown",
    "output_cleared": false
   },
   "source": [
    "2.1 - There are many ways to measure a game's goodness (even ways that are not included in this data set!), but let's start by exploring variation in critics’ ratings of games, `Critic_Score`. Create a histogram that would help us do this."
   ]
  },
  {
   "cell_type": "markdown",
   "metadata": {
    "cell_id": "7488160a-1b78-4796-a5e2-a4bdbfb6165d",
    "deepnote_cell_type": "markdown",
    "output_cleared": false
   },
   "source": [
    "2.2 - Find one of the tallest bars and the lowest bars in the histogram. What does it mean for a bar to be really low, or really tall in this histogram? "
   ]
  },
  {
   "cell_type": "markdown",
   "metadata": {
    "cell_id": "8b7bdd16-88a9-48c6-86b5-b97b3bb159bf",
    "deepnote_cell_type": "markdown",
    "output_cleared": false
   },
   "source": [
    "2.3 - What would you guess is the scale used for rating the games (i.e., the range of possible ratings)?"
   ]
  },
  {
   "cell_type": "markdown",
   "metadata": {
    "cell_id": "a12ad1be-5d8e-40db-95b3-ac4f89cd66a7",
    "deepnote_cell_type": "markdown",
    "output_cleared": false
   },
   "source": [
    "2.4 - If we made a boxplot of the same data, which of the following would it look like (left, center, or right)? \n",
    "<img src = \"https://i.imgur.com/ryrfoQB.png\" title = \"Left boxplot looks even, center boxplot has a low tail, right boxplot has high tail\">"
   ]
  },
  {
   "cell_type": "markdown",
   "metadata": {
    "cell_id": "faa13889-bd0f-4073-8640-ab3ab2b8800b",
    "deepnote_cell_type": "markdown",
    "output_cleared": false
   },
   "source": [
    "2.5 - Try making a boxplot. Which one did it look like? Why does it look like that?"
   ]
  },
  {
   "cell_type": "markdown",
   "metadata": {
    "cell_id": "efaed929-19f9-44f8-b1a4-bb87c5bf9351",
    "deepnote_cell_type": "markdown",
    "output_cleared": false
   },
   "source": [
    "2.6 - How would you describe this distribution of critics’ scores? What have we learned about critics’ scores by looking at this distribution? "
   ]
  },
  {
   "cell_type": "markdown",
   "metadata": {
    "cell_id": "eed57345-8bf3-4262-bbca-95840bd6713e",
    "deepnote_cell_type": "markdown",
    "output_cleared": false
   },
   "source": [
    "## 3.0 - How Users Rate Video Games"
   ]
  },
  {
   "cell_type": "markdown",
   "metadata": {
    "cell_id": "40ae4bc7-03c9-48f2-b705-8e9a7cfb9c52",
    "deepnote_cell_type": "markdown",
    "output_cleared": false
   },
   "source": [
    "3.1 - That’s just critic ratings; how about user ratings? Will they also be skewed? Will their pattern of variation look different from critics? Why or why not?"
   ]
  },
  {
   "cell_type": "markdown",
   "metadata": {
    "cell_id": "03d28324-f57d-40f8-94d5-04d1ad724889",
    "deepnote_cell_type": "markdown",
    "output_cleared": false
   },
   "source": [
    "3.2 - Let’s take a look at the total variation in `User_Score`. Is the distribution shaped like the critics’ scores?"
   ]
  },
  {
   "cell_type": "markdown",
   "metadata": {
    "cell_id": "b0d1de76-a3f2-41dc-9036-54c3662699d0",
    "deepnote_cell_type": "markdown",
    "output_cleared": false
   },
   "source": [
    "## 4.0 - Cleaning the Data"
   ]
  },
  {
   "cell_type": "markdown",
   "metadata": {
    "cell_id": "b2e76821-095c-44a7-bd87-08babe9a0e58",
    "deepnote_cell_type": "markdown",
    "output_cleared": false
   },
   "source": [
    "4.1 - Notice that we got a warning message here like we did when we tried to visualize `Critic_Score`. But this time the number is different. What does this mean? How should we handle this?"
   ]
  },
  {
   "cell_type": "markdown",
   "metadata": {
    "cell_id": "fb462060-5835-481c-b9e5-5bed7083adaa",
    "deepnote_cell_type": "markdown",
    "output_cleared": false
   },
   "source": [
    "4.2 - We want to teach you a new function called `na.omit`. This function takes in a data frame and then spits it out without any games that have an ‘NA’ in it. Try running the following code."
   ]
  },
  {
   "cell_type": "code",
   "execution_count": null,
   "metadata": {
    "cell_id": "4bfffc50-22b2-4b42-b443-44386067e753",
    "deepnote_cell_type": "code",
    "execution_millis": 16,
    "execution_start": 1605772947601,
    "output_cleared": false,
    "source_hash": "9f65cd3"
   },
   "outputs": [],
   "source": [
    "games2 <- na.omit(gamesales)"
   ]
  },
  {
   "cell_type": "markdown",
   "metadata": {
    "cell_id": "80e6a07a-6b24-4345-88f8-07469ceefcd2",
    "deepnote_cell_type": "markdown",
    "output_cleared": false
   },
   "source": [
    "4.3 - Compare `games2` to `gamesales`. What’s different about it? What are the pros and cons of using `games2` (rather than `gamesales`) to look at the distribution of user ratings or critics scores?"
   ]
  },
  {
   "cell_type": "markdown",
   "metadata": {
    "cell_id": "d2f39257-1c4f-499c-9cd9-8afb31f04806",
    "deepnote_cell_type": "markdown",
    "output_cleared": false
   },
   "source": [
    "## 5.0 - Critic Ratings versus User Ratings "
   ]
  },
  {
   "cell_type": "markdown",
   "metadata": {
    "cell_id": "4adeb7d1-0086-41f0-8462-44727743a6ff",
    "deepnote_cell_type": "markdown",
    "output_cleared": false,
    "tags": []
   },
   "source": [
    "5.1 - Now if we run this code to make histograms (same as before), do you think we will get any error messages? Why or why not?"
   ]
  },
  {
   "cell_type": "code",
   "execution_count": null,
   "metadata": {
    "cell_id": "1a066f5b-f071-4e55-90e9-b64d5e81749b",
    "deepnote_cell_type": "code",
    "execution_millis": 682,
    "execution_start": 1605772947622,
    "output_cleared": false,
    "source_hash": "c3d483cb"
   },
   "outputs": [],
   "source": [
    "gf_histogram(~ Critic_Score, data=games2, fill = \"blue\", color = \"black\")\n",
    "\n",
    "gf_histogram(~ User_Score, data=games2, fill = \"orange\", color = \"black\")\n"
   ]
  },
  {
   "cell_type": "markdown",
   "metadata": {
    "cell_id": "f03254ed-85fb-422d-ba57-f4b62422cd3b",
    "deepnote_cell_type": "markdown",
    "output_cleared": false
   },
   "source": [
    "5.2 - Compare the distribution of `User_Score` to `Critic_Score`. What’s similar? What’s different? Is there anything we can do to make these two distributions easier to compare?"
   ]
  },
  {
   "cell_type": "markdown",
   "metadata": {
    "cell_id": "73092149-6082-4d17-84ed-bed4050d6ade",
    "deepnote_cell_type": "markdown",
    "output_cleared": false
   },
   "source": [
    "5.3 - From looking at these distributions, do you think users and critics are similar in the way they actually judge the “goodness” of games? Different? What are your theories about the Data Generating Process that makes the data look this way?"
   ]
  },
  {
   "cell_type": "markdown",
   "metadata": {
    "cell_id": "9c54bba3-0343-4ad0-bf1c-45b5d57f753c",
    "deepnote_cell_type": "markdown",
    "output_cleared": false
   },
   "source": [
    "## 6.0 - What do ratings tell us about the “goodness” of games?"
   ]
  },
  {
   "cell_type": "markdown",
   "metadata": {
    "cell_id": "882401e8-0049-458b-bf40-4b9f2d40499c",
    "deepnote_cell_type": "markdown",
    "output_cleared": false
   },
   "source": [
    "6.1 - Do you think other ways of measuring “goodness” will look like the ratings we looked at? Try it out with another variable in our data set that might tell you about the goodness of a game. "
   ]
  },
  {
   "cell_type": "markdown",
   "metadata": {
    "cell_id": "fe88e6d9-66c5-4333-bb9e-29548197118d",
    "deepnote_cell_type": "markdown",
    "output_cleared": false,
    "tags": []
   },
   "source": [
    "### By default, please close and halt!"
   ]
  }
 ],
 "metadata": {
  "deepnote_execution_queue": [],
  "deepnote_notebook_id": "66e4a228-7f5c-4a5f-adf2-ef5bdb093f61",
  "kernelspec": {
   "display_name": "R",
   "language": "R",
   "name": "ir"
  },
  "language_info": {
   "codemirror_mode": "r",
   "file_extension": ".r",
   "mimetype": "text/x-r-source",
   "name": "R",
   "pygments_lexer": "r",
   "version": "3.6.3"
  },
  "nbsimplegrader": {
   "is_published": false,
   "publish_config": {
    "classes": {},
    "options": {
     "include_submit": false,
     "lock_notebook": false
    },
    "tools": {}
   },
   "should_be_locked": false
  }
 },
 "nbformat": 4,
 "nbformat_minor": 2
}
