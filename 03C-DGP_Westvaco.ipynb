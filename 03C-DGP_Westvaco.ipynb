{
  "cells": [
    {
      "metadata": {
        "cell_id": "6fa876d6-bb40-4673-9be3-b7fe634dfdbc",
        "tags": []
      },
      "cell_type": "markdown",
      "source": "# 03C: Westvaco's DGP"
    },
    {
      "metadata": {
        "cell_id": "2a2777cb-b3b0-44f2-832d-315c886eaa4a",
        "trusted": true
      },
      "cell_type": "code",
      "source": "# Run this code to load the required packages\nsuppressMessages(suppressWarnings(suppressPackageStartupMessages({\n  library(mosaic)\n  library(supernova)\n})))",
      "execution_count": null,
      "outputs": []
    },
    {
      "metadata": {
        "cell_id": "a7e20335-e3c3-4900-af65-78d4c17c4fad"
      },
      "cell_type": "markdown",
      "source": "**Preamble:** In the year Robert Martin turned 54, the Westvaco Corporation (an envelope company) decided to downsize. They laid off many people, including Robert Martin. Later that year, he sued Westvaco, claiming he had been laid off because of his age. A major piece of Martin’s case was based on a statistical analysis of the ages of the Westvaco employees.\n"
    },
    {
      "metadata": {
        "cell_id": "0ab7f666-bf8d-4ed6-872a-51c0b1de43e8",
        "tags": []
      },
      "cell_type": "markdown",
      "source": "## 1.0 - The Data"
    },
    {
      "metadata": {
        "cell_id": "5429637d-7e30-4cf7-a1dc-aef651ce8b8c",
        "tags": []
      },
      "cell_type": "markdown",
      "source": "1.1 - Here is one set of data from Martin v. Westvaco (from one of the departments, simplified and modified for teaching purposes). What are each of these lines of code doing? Poke around to see what this `Westvaco` data frames is like. "
    },
    {
      "metadata": {
        "cell_id": "ef03ac3a-0a5b-4e51-9562-409232b3aff8",
        "trusted": true
      },
      "cell_type": "code",
      "source": "Westvaco <- read.csv(\"https://docs.google.com/spreadsheets/d/e/2PACX-1vRSAFbaPcTt1PJvW8C-_x8KA_KLqQQboYBfSDimHMkW8rn3z8VhZfpW7ZG7Bo0nuANCcqAbW4aKEFsq/pub?gid=1945114845&single=true&output=csv\", header = TRUE)\nWestvaco.Fired <- filter(Westvaco, Status == \"Fired\")",
      "execution_count": null,
      "outputs": []
    },
    {
      "metadata": {
        "cell_id": "d8c9d9d9-a536-4105-8f31-570306d615cf",
        "tags": []
      },
      "cell_type": "markdown",
      "source": "1.2 - What do you think these rows mean? What are the questions you have about this data?"
    },
    {
      "metadata": {
        "cell_id": "51ce1b52-9e11-4d40-ab89-378c54e497b1",
        "tags": []
      },
      "cell_type": "markdown",
      "source": "## 2.0 - Explore Variation"
    },
    {
      "metadata": {
        "cell_id": "d5550f3b-deca-4a42-a942-a475bd72224d",
        "tags": []
      },
      "cell_type": "markdown",
      "source": "2.1 - Run the code below. What is the histogram about?"
    },
    {
      "metadata": {
        "cell_id": "28905254-3ac7-48f9-b5d6-7422d1f91b43",
        "scrolled": true,
        "trusted": true
      },
      "cell_type": "code",
      "source": "gf_histogram(~ Age, data = Westvaco.Fired, color = \"firebrick\", fill = \"firebrick2\")",
      "execution_count": null,
      "outputs": []
    },
    {
      "metadata": {
        "cell_id": "b4d1deb9-b00b-4f59-b733-028659512020",
        "tags": []
      },
      "cell_type": "markdown",
      "source": "### Check out the data but be careful not to jump to conclusions."
    },
    {
      "metadata": {
        "cell_id": "98049c5f-0d54-4d9c-a010-aff485f84fb5"
      },
      "cell_type": "markdown",
      "source": "2.2 - What are some reasons (from the data) you have for suspecting discrimination?\n- list some of them here\n- another reason\n- another"
    },
    {
      "metadata": {
        "cell_id": "404e861a-494c-4cb4-911c-f54677ccc4a6",
        "tags": []
      },
      "cell_type": "markdown",
      "source": "2.3 - What are some reasons (from the data) you have for not suspecting discrimination?\n- list some of them here\n- another reason\n- another"
    },
    {
      "metadata": {
        "cell_id": "7a95213f-6962-4bf6-b2a3-75658988c779"
      },
      "cell_type": "markdown",
      "source": "2.4 - Some context might be helpful. Try creating a histogram of the ages for all the people in this department at Westvaco or a histogram of ages for those that didn’t get fired below. (You may want to play around with colors, fill, etc.) \n\nAfter doing so, add on to your reasons (above) for suspecting or not suspecting discrimination. "
    },
    {
      "metadata": {
        "cell_id": "6bc07777-38c0-4ff6-a30f-734634ed7d1a",
        "trusted": true
      },
      "cell_type": "code",
      "source": "# other histograms to explore these data\n",
      "execution_count": null,
      "outputs": []
    },
    {
      "metadata": {
        "cell_id": "b9268167-ca6b-4c7d-85c0-191a77cff1cf",
        "tags": []
      },
      "cell_type": "markdown",
      "source": "## 3.0 - Thinking about the DGP"
    },
    {
      "metadata": {
        "cell_id": "02be0e70-f58a-4eba-9c30-cc9da89585f1"
      },
      "cell_type": "markdown",
      "source": "3.1 - A few quick questions:\n- What is the population in this case? What is the Data Generating Process that we are interested in?  \n- Even though random firing isn't a very smart way to run a business, random firing is *at least* not discriminatory. Why is it not considered \"discrimination\"? \n- Is it possible to randomly fire people and still to end up with an age distribution of people that has a lot of older people and fewer younger people in it? Is it likely?"
    },
    {
      "metadata": {
        "cell_id": "bca966e3-3f43-4d44-8011-f2ca863e76d8",
        "tags": []
      },
      "cell_type": "markdown",
      "source": "## 4.0 - Simulating a Random DGP"
    },
    {
      "metadata": {
        "cell_id": "7856d7c8-4a6a-43d6-b973-a57e7c97ce8a"
      },
      "cell_type": "markdown",
      "source": "The goal of this section is to consider these questions: What if people were randomly fired? Do you think the distribution would look different? Would randomly fired distributions look similar to the empirical sample of fired people?  (If firing is random, then we all can agree it's not age discrimination.) \n\nBut we aren't just going to sit around and think, we are actually going to **do**. We'll simulate randomly firing people in R."
    },
    {
      "metadata": {
        "cell_id": "a54d1772-d69d-4cf8-92ec-8b28faa5b168",
        "tags": []
      },
      "cell_type": "markdown",
      "source": "4.1 - To get you started, how might we simulate randomly firing people in R? How many people should we fire in our simulations?"
    },
    {
      "metadata": {
        "cell_id": "7bf9f25c-9c41-4555-81ac-6fb7e88cbb15",
        "trusted": true
      },
      "cell_type": "code",
      "source": "Westvaco.RandFired <- ",
      "execution_count": null,
      "outputs": []
    },
    {
      "metadata": {
        "cell_id": "d8c9ddaa-cc2e-4862-8e5a-ec8edb82798a"
      },
      "cell_type": "markdown",
      "source": "### Who will this favor? Martin v. Westvaco\n\n4.2 - Also let’s capture our initial thoughts (we will return to this after the simulations): If it turns out to be pretty rare to generate a random sample like the empirical sample of fired people, does that favor Martin or Westvaco? What DGP would that favor?\n"
    },
    {
      "metadata": {
        "cell_id": "2f780c51-4c9e-4327-8e91-fa7f62e5313a",
        "trusted": true
      },
      "cell_type": "code",
      "source": "# Fire some people randomly. Make a histogram of randomly fired people’s ages. \n# Run the code a few times to simulate firing samples of people a few times. \n",
      "execution_count": null,
      "outputs": []
    },
    {
      "metadata": {
        "cell_id": "0805dc20-f10f-4bcf-9036-bb063398dc13"
      },
      "cell_type": "markdown",
      "source": "### Do those simulated samples look like our empirical sample?\n\n4.3 - Is it rare to get a sample like our empirical sample? What are you looking at when you decide that a distribution is similar or different from our empirical sample?"
    },
    {
      "metadata": {
        "cell_id": "6193e95c-a124-49a7-8177-c74499f9e144",
        "tags": []
      },
      "cell_type": "markdown",
      "source": "## 5.0 - Re-cap and Summary"
    },
    {
      "metadata": {
        "cell_id": "f6b2df32-d679-4b1b-9b3d-ed1b8395cd82",
        "tags": []
      },
      "cell_type": "markdown",
      "source": "### Who will this favor? Martin v. Westvaco\n\n5.1 - If it's very rare to randomly generate a random sample like the empirical sample of fired people, does that favor Martin or Westvaco? \n\n5.2 - If it's not too hard to randomly generate a random sample like the empirical sample of fired people, does that favor Martin or Westvaco? \n"
    },
    {
      "metadata": {
        "cell_id": "7b926140-4ee7-4559-9b85-d4b16a83b5cb"
      },
      "cell_type": "markdown",
      "source": "### Analogy Time!\n\n#### Distribution Triad with Dice Rolls (3.3-3.5)\n<img src=\"https://i.imgur.com/9pAistr.png\" title=\"Visual summary of the dice example on pages 3.3-3.5\" width = 70%/>\n\n#### Distribution Triad with Westvaco\n<img src=\"https://i.imgur.com/nRLGO4u.png\" title=\"Visual summary of today's Westvaco example\" width = 70%/>\n"
    },
    {
      "metadata": {
        "cell_id": "bacba437-6f2b-4603-bd62-fa5fd3ea1a48",
        "tags": []
      },
      "cell_type": "markdown",
      "source": "### By default, please close and halt!"
    }
  ],
  "metadata": {
    "deepnote_execution_queue": [],
    "deepnote_notebook_id": "788218b4-0a9f-4ac4-9900-8f869441b87c",
    "kernelspec": {
      "name": "ir",
      "display_name": "R",
      "language": "R"
    },
    "language_info": {
      "name": "R",
      "codemirror_mode": "r",
      "pygments_lexer": "r",
      "mimetype": "text/x-r-source",
      "file_extension": ".r",
      "version": "3.6.3"
    }
  },
  "nbformat": 4,
  "nbformat_minor": 2
}