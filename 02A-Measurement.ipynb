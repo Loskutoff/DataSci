{
  "cells": [
    {
      "metadata": {
        "cell_id": "f2f31e52-84d5-491e-a6d5-659ec1cacfc3"
      },
      "cell_type": "markdown",
      "source": "# 2A: Measuring Gummy Bear Launches "
    },
    {
      "metadata": {
        "cell_id": "a2713be3-5622-4b26-a14e-b20be43cf712",
        "tags": []
      },
      "cell_type": "markdown",
      "source": "*Note to instructors: This lesson requires special materials (including popsicle sticks, rubber bands, gummy bears, measurement tools, and a printed [Launching Bears Data Collection Sheet](https://docs.google.com/document/d/1kQhk0rc0nzzv9MecqI34E--bfQIGUbaZb8O7wyVRsVY/edit))! Skip to 02C if your class won't have these materials.*"
    },
    {
      "metadata": {
        "cell_id": "22dcf825-9bd7-4067-a970-b160bcd6bbf6",
        "trusted": true
      },
      "cell_type": "code",
      "source": "# Run this code to load the R Packages\nsuppressMessages(suppressWarnings(suppressPackageStartupMessages({\n  library(mosaic)\n  library(supernova)})))\n",
      "execution_count": null,
      "outputs": []
    },
    {
      "metadata": {
        "cell_id": "8bc2437d-c6a0-48b7-9575-aa875918c660"
      },
      "cell_type": "markdown",
      "source": "## 1.0 - How do we get data?\nWe use data to try and understand all kinds of things: climate change, poverty, politics, psychology, health, etc. But that means we need to measure all kinds of things that are hard to measure. How do we measure how smart, happy, or healthy someone is? How powerful, free, or secure a country is? Once we get that data, we want to use data science to figure out whether this stuff changes, improves, differs across people, or predicts some future outcome, and much more.\n\nBut it all starts with figuring out measurement -- how would we know how much of something exists? How would we know how that thing varies across people, animals, families, companies, countries?\n \nLet’s start by measuring something easy. The distance traveled by gummy bears! We’ll build some catapults, launch some gummy bears, and measure how far they flew!\n"
    },
    {
      "metadata": {
        "cell_id": "c4e8f37b-0fae-4367-a531-0c93d4fe5aa2"
      },
      "cell_type": "markdown",
      "source": "## 2.0 - Build Your Catapults\n\nWe’re going to build a basic catapult to launch our gummy bears. As you do, consider this question: What makes a gummy bear launch the farthest?"
    },
    {
      "metadata": {
        "cell_id": "54321aaa-25cd-4774-9334-bf4e0e50af5c",
        "tags": []
      },
      "cell_type": "markdown",
      "source": "### Materials\n\n- 16 craft sticks (popsicle sticks)\n- 7 sturdy rubber bands\n- Gummy Bears (just one package; save the other package for next class session)\n- Small open area (1-2 square meters will do. It should be a sturdy, flat surface such as a table or floor.)\n- Rigid ruler, flexible measuring tape\n- *Optional*: Masking tape and sharpie (for marking boundaries, catapult starting lines, etc.) \n"
    },
    {
      "metadata": {
        "cell_id": "1dafe9ee-7332-4158-9636-1a29e2dc4bfe",
        "tags": []
      },
      "cell_type": "markdown",
      "source": "### Some Notes\n\n- Disclaimer: The simple catapult described in this project is safe when used with soft objects (such as gummy bears or balled up paper). Shooting hard objects or using other homemade catapults can be dangerous. Make sure any objects you launch are soft and light so as not to harm anyone or cause any damage to objects around you.\n- Catapult instructions adapted from [this Scientific American article](https://www.scientificamerican.com/article/build-a-catapult/)\n"
    },
    {
      "metadata": {
        "cell_id": "43e3c458-53ac-4502-af8b-8bbb1c5c3853",
        "tags": []
      },
      "cell_type": "markdown",
      "source": "### Step-By-Step Instructions\n\nYou can also find a video explanation here: https://youtu.be/EXiNq_BcDUc"
    },
    {
      "metadata": {
        "cell_id": "2e03712d-08eb-40f1-96f3-4354a0fdd96b"
      },
      "cell_type": "markdown",
      "source": "\n**STEP 1 - Base**: Take six craft sticks, stack them one on top of the other. Secure these sticks together by wrapping rubber bands around both ends of the stack. *Note*: if you have a variety of rubberband sizes, you may use *any* size for each step during your build.\n\n\n<a href=\"https://imgur.com/vJgSMVd\"><img src=\"https://i.imgur.com/vJgSMVd.png\" title=\"source: imgur.com\" /></a>"
    },
    {
      "metadata": {
        "cell_id": "abd6ed07-0798-4979-bcb5-cbbf57bcff83"
      },
      "cell_type": "markdown",
      "source": "**STEP 2 - Tilt**: Take another six craft sticks, stack them one on top of the other, and attach the stack perpendicular to the stack you just made, near one end. You can do this with one or two rubber bands that are crossed in an X over the sticks. If you cross it this way, the sticks will stay nicely perpendicular. (this will prop up the base of the catapult so that it will not lie flat).\n\n<a href=\"https://imgur.com/QoCEtZA\"><img src=\"https://i.imgur.com/QoCEtZA.png\" title=\"source: imgur.com\" /></a>"
    },
    {
      "metadata": {
        "cell_id": "99372e75-ea4f-4485-be9d-c594e70a41ae"
      },
      "cell_type": "markdown",
      "source": "**STEP 3 - Lift**: To add the lift take one stick and attach it perpendicular to the base, around the middle, so you get a cross shape. You can do this with one or two rubber bands that are crossed in an X over the sticks. If you cross it this way, the sticks will stay nicely perpendicular.\n\n<a href=\"https://imgur.com/5qRcvD8\"><img src=\"https://i.imgur.com/5qRcvD8.png\" title=\"source: imgur.com\" /></a>"
    },
    {
      "metadata": {
        "cell_id": "b83c9bea-4d83-4029-bcc2-4735d22ed2db"
      },
      "cell_type": "markdown",
      "source": "**STEP 4 - Launching Stick**: Next, add the launching stick by attaching a stick to the end opposite of the tilt stack with a rubber band. If it were not for the lift stick in between, the launching stick would fall flat on top of the base. Now the launching stick and the base form a V shape lying on its side with the lift stick in the middle. (Note: You should have two popsicle sticks left over--these will be used later).\n<a href=\"https://imgur.com/5jWB4yP\"><img src=\"https://i.imgur.com/5jWB4yP.png\" title=\"source: imgur.com\" /></a>"
    },
    {
      "metadata": {
        "cell_id": "5548ee0b-b1cf-4ab0-937f-de4957b80547"
      },
      "cell_type": "markdown",
      "source": "## 3.0 - Launch some gummy bears\n\nTry a few gummy bear launches."
    },
    {
      "metadata": {
        "cell_id": "a15e6dd6-8c7d-4678-9bdb-a69f44158223"
      },
      "cell_type": "markdown",
      "source": "3.1 - Now that you’ve tried a few launches, what are some things that seem to affect how far the gummy bear goes? \n"
    },
    {
      "metadata": {
        "cell_id": "b93377f0-12a0-42f4-b5ea-2af4dc95b0fc"
      },
      "cell_type": "markdown",
      "source": "3.2 - As a class, let's write a set of instructions for the “best method” to launch a gummy bear (so everyone can do it roughly the same way). "
    },
    {
      "metadata": {
        "cell_id": "22813438-ac87-4964-b9bc-a06fe79d5cad"
      },
      "cell_type": "markdown",
      "source": "## 4.0 - Measuring Launch Distances\nEach person is going to be measuring their launching distances with two different tools: A 30-cm ruler and a longer measuring tape. \n"
    },
    {
      "metadata": {
        "cell_id": "89bc3eca-9d00-4820-a029-20f2deb50220",
        "tags": []
      },
      "cell_type": "markdown",
      "source": "4.1 - Launch 1 gummy bear according to the “best method” that we developed. Then try to measure this distance using the ruler. Do any questions come up for you?\n"
    },
    {
      "metadata": {
        "cell_id": "44124778-24e1-417b-a28f-58fc31d14062"
      },
      "cell_type": "markdown",
      "source": "4.2 - Just as there are many ways to launch the gummy bears, we realize there are a lot of choices to make when we measure the distances. As a class, let's write a set of instructions for the \"best method\" to *measure* a distance."
    },
    {
      "metadata": {
        "cell_id": "96c1e218-99d7-46c3-978a-8237c0c1825f",
        "tags": []
      },
      "cell_type": "markdown",
      "source": "4.3 - Launch 3 gummy bears according to the “best method for launching” that we developed (one bear at a time, each bear a different color). First measure the distances from the catapult to the gummy bear using the 30-cm ruler and write them down on the [Launching Bears Data Collection Sheet](https://docs.google.com/document/d/1kQhk0rc0nzzv9MecqI34E--bfQIGUbaZb8O7wyVRsVY/edit). Then measure the same distances using the longer measuring tape. Write those down as well. These will be gummy bears #1 through #3."
    },
    {
      "metadata": {
        "cell_id": "8147712c-c5f7-44bf-b79e-ae42a084b851"
      },
      "cell_type": "markdown",
      "source": "4.4 - We used two different tools for measuring the distance. Did everyone in the class come up with identical measurements for each gummy bear that got launched? Why do you think that is? "
    },
    {
      "metadata": {
        "cell_id": "5b29192f-124f-4a91-980b-785ae747ccb1"
      },
      "cell_type": "markdown",
      "source": "## 5.0 - Measurement Error"
    },
    {
      "metadata": {
        "cell_id": "a1655767-ac93-429a-be0c-0472b1d1b8e8"
      },
      "cell_type": "markdown",
      "source": "5.1 - What are some things you could do if you wanted to make these measurements more similar? That is, how can you reduce the variability in your measurements?\n"
    },
    {
      "metadata": {
        "cell_id": "713f2879-8a49-47aa-8d77-d4f893bd93be"
      },
      "cell_type": "markdown",
      "source": "5.2 - Do you think we can completely eliminate the variability in measurement? Why or why not?\n"
    },
    {
      "metadata": {
        "cell_id": "ade808b9-2c07-4682-9f9a-8dc5a102eaca"
      },
      "cell_type": "markdown",
      "source": "5.3 - **Whole Class Discussion**: Small differences in gummy bear launching distances may not seem like it matters a lot. One way of measuring gave us a distance of 24 cm and another gave us 23 cm. Not a big deal. But later we are going to analyze hate crimes from the FBI database. What counts as a hate crime? Who decides? How do we decide? How is the determination of “hate crime” kind of like the measurement error we see in gummy bear distances?\n"
    },
    {
      "metadata": {
        "cell_id": "1aa119dd-6749-4de8-ab63-65fac3e8e6ec"
      },
      "cell_type": "markdown",
      "source": "## 6.0 - Designing an Experiment: Does lift cause the distance to vary?\n"
    },
    {
      "metadata": {
        "cell_id": "89722c7e-6475-42e7-b83b-18ada429e37c"
      },
      "cell_type": "markdown",
      "source": "6.1 - The height of the lift (how many lift sticks there are) is an important factor. Right now, our catapults only have one lift stick. How might we design an experiment to see out whether adding some lift sticks affects the launching distance?\n"
    },
    {
      "metadata": {
        "cell_id": "c51f9418-1a84-4550-b298-9b475e72ef5b"
      },
      "cell_type": "markdown",
      "source": "6.2 - Do you think a catapult with a low lift or one with a high lift will launch farther, or will it not make much difference? Make some predictions about what you expect to find. How far do you think the candy will launch? What will probably be the farthest it can go?\n\n"
    },
    {
      "metadata": {
        "cell_id": "7bd1f5b0-73c3-4958-9996-3c98c63496ea"
      },
      "cell_type": "markdown",
      "source": "6.3 - Add one additional stick to the lift of the catapult (2 Lift sticks), launch 3 gummy bears, and record your observations. These will be gummy bears # 4-6. \n\nFollow that by adding one more lift stick (3 Lift sticks), and launching 3 more gummy bears. Record these launch distances as gummy bears #7-9.\n\nFeel free to only measure once with the measuring tape. (You can leave the ruler measurement blank or write NA.)\n"
    },
    {
      "metadata": {
        "cell_id": "aefa390e-7684-4792-95e0-54098143ce47"
      },
      "cell_type": "markdown",
      "source": "## 7.0 - Explaining Variation"
    },
    {
      "metadata": {
        "cell_id": "fd881ee2-1d73-46a8-93ad-2e0b4e66ba08"
      },
      "cell_type": "markdown",
      "source": "Lots of you now have data on this little experiment. I have pulled three distances from a 3-lift catapult as well as three distances from a 1-lift catapult and mixed them up here:\n\n16.5,   34.5,   28,   14,   25,   43.5\n"
    },
    {
      "metadata": {
        "cell_id": "794b7cf8-8251-4b0d-850e-a477fa10ad07"
      },
      "cell_type": "markdown",
      "source": "7.1 - **Discussion**: Notice that there is variation in distances here. Now we will try to “explain” some of this variation. We know that some of these came from 3-lift catapults and some came from 1-lift catapults. If you had to take a guess, which of these measurements came from the 3-lift catapults? Which came from the 1-lift catapults? \n"
    },
    {
      "metadata": {
        "cell_id": "f12a49b0-315f-4440-a007-45dddf74beb4"
      },
      "cell_type": "markdown",
      "source": "7.2 - Based on the small amount of data you collected, what is your intuition about these research questions: What makes a gummy bear launch farther? Does lift matter? Does more lift always lead to farther launches?\n"
    },
    {
      "metadata": {
        "cell_id": "5320c4b4-3a49-4848-aed9-41a8fb23cb11"
      },
      "cell_type": "markdown",
      "source": "7.3 - If we did this whole study again with 9 other gummy bears, would we get exactly the same numbers even if we did the same thing? Why?\n"
    },
    {
      "metadata": {
        "cell_id": "8247edab-a14b-4cf5-b40b-9863c06778a8",
        "tags": []
      },
      "cell_type": "markdown",
      "source": "In our next lesson, we will take a closer look at our samples and measurements to see if we can find any patterns in the variation and get some data-based answers to our questions.\n\n### By default, please close and halt!"
    }
  ],
  "metadata": {
    "deepnote_execution_queue": [],
    "deepnote_notebook_id": "997d2cb9-a356-4ff9-b5f4-dc1063133e3d",
    "kernelspec": {
      "name": "ir",
      "display_name": "R",
      "language": "R"
    },
    "language_info": {
      "name": "R",
      "codemirror_mode": "r",
      "pygments_lexer": "r",
      "mimetype": "text/x-r-source",
      "file_extension": ".r",
      "version": "3.6.3"
    }
  },
  "nbformat": 4,
  "nbformat_minor": 2
}