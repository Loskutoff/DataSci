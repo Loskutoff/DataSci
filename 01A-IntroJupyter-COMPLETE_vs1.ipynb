{
  "cells": [
    {
      "metadata": {
        "cell_id": "df753d8f-3c0e-4174-bd30-c614e9c73186"
      },
      "cell_type": "markdown",
      "source": "<div class=\"alert alert-block alert-danger\">\n\n# 1A: Introduction to Jupyter Notebooks (COMPLETE)\n"
    },
    {
      "metadata": {
        "cell_id": "537fdfe1-0a98-4d73-8eef-f633823f10f1",
        "tags": []
      },
      "cell_type": "markdown",
      "source": "<div class=\"alert alert-block alert-success\">\n\n## Approximate time to complete Notebook: 45 - 65 Mins"
    },
    {
      "metadata": {
        "cell_id": "335dcfbc-6f1a-4e3b-9e16-916dbc2902e2"
      },
      "cell_type": "markdown",
      "source": "You have been learning R in the textbook using the *DataCamp* interface. But statisticians and data scientists don't use *DataCamp* in their work. They use either RStudio or Jupyter Notebooks. The main advantage of these platforms is that they enable you to save your work and continue it later.\n\nYou'll learn most of what you need to know about Jupyter Notebooks just by working with them. When you run up against something you can't figure out, try Googling it! That's what we do! Still, here are few concepts to help you get started.\n"
    },
    {
      "metadata": {
        "cell_id": "aacba209-26a7-457f-832d-34626a3c2504",
        "tags": []
      },
      "cell_type": "markdown",
      "source": "<div class=\"alert alert-block alert-success\">\n\n### 1.0 - Approximate Time: 3-5 mins"
    },
    {
      "metadata": {
        "cell_id": "8c6ab0bf-95bc-484b-a02b-e549cc50cf2a"
      },
      "cell_type": "markdown",
      "source": "## 1.0 - Jupyter Basics\n\nHere are a few basic concepts to get you started with Jupyter Notebooks:\n\n- **A notebook is a page.** The page you are looking at right now is a single Jupyter Notebook. It's kind of like a word document but there is one important difference: you can write and run code right in a Jupyter Notebook (JNB for short). When you run the code, the output will be inserted directly right below the code.\n\n- **A notebook consists of a series of CELLS.** There are two main types of cells: a *Markdown* cell, which is used for entering text; and a *Code* cell, which is used for entering R code. (We have over-simplified a bit here, but this is enough to get you started.) The text you are reading now is inside of a *Markdown* cell. A little further down the page we will show you some *Code* cells.\n\n- **A notebook is a great way to organize, present, and share a data analysis.** The notebook format fits well with the practice of data analysis. In a *markdown* cell you can pose questions and then propose a data analysis plan. You can then add a *code* cell to write R code and actually run the analyses you want to run. After you run an analysis, you can add another *markdown* cell to interpret the results of the analysis you ran.\n"
    },
    {
      "metadata": {
        "cell_id": "8a4f0914-c0f9-4195-b375-ae423699041b",
        "tags": []
      },
      "cell_type": "markdown",
      "source": "<div class=\"alert alert-block alert-success\">\n\n### 2.0 - Approximate Time: 3-5 mins"
    },
    {
      "metadata": {
        "cell_id": "026b56fc-6246-4931-8850-17ae137347ee",
        "tags": []
      },
      "cell_type": "markdown",
      "source": "## 2.0 Jupyter Notebooks Have Two Modes\n\nIf you have a cell selected, the left margin is <span style=\"color:blue\">blue</span>.\n\n**Edit mode:** To switch to EDIT mode, press **ENTER** on your keyboard. If you are in EDIT mode, the left margin is <span style=\"color:green\">green</span> and you can type in the cells. Notice that the font changes.\n\nYou can also go into EDIT mode by double-clicking in a markdown cell or clicking in a code cell. \n\n**Command mode:** To switch to COMMAND mode press **ESC**. If you are in COMMAND mode, the left margin is blue and you cannot type in the cells. But you can use keyboard shortcuts for navigating around your notebook. (Click the keyboard icon on the toolbar to start learning keyboard shortcuts.)\n\nYou can also go into COMMAND mode by clicking anywhere outside the cell or pressing **SHIFT + RETURN**. If you want to make a Markdown cell look nice and \"rendered\", use **SHIFT + RETURN** (more on that below)."
    },
    {
      "metadata": {
        "cell_id": "25c249ce-e45f-4381-b2ac-6eca09d9386e",
        "tags": []
      },
      "cell_type": "markdown",
      "source": "<div class=\"alert alert-block alert-success\">\n\n### 3.0 - Approximate Time: 5-8 mins"
    },
    {
      "metadata": {
        "cell_id": "626eabeb-34c0-4003-9bf8-e6b8c0b7baa6"
      },
      "cell_type": "markdown",
      "source": "## 3.0 - Making Markdown Cells look nice\n\nThis is a Markdown cell. You should also see a dropdown menu in the toolbar above where it also says \"Markdown\". \n\nWe can do a number of things in Markdown cells to make it look nice!\n\n# I can make really large headings\nMaybe for a title\n\n## Or slightly smaller headings\nMaybe to separate sections\n\n### Or even smaller headings\nMaybe for subsections\n\nI can also write in **bold**  or *italics*  or `specify some code`\n- Or maybe I want to\n- make a bullet list\n- of multiple\n- items\n\n> or make a note with an indent like this\n\n\n\nNow press **ENTER** cell to enter EDIT mode. Your left margin should have changed from blue to green.  \n\nIn EDIT mode, you will see the font change and all markdown codes that allows you to do all of the above. Do you see how one hashtag (#) makes the large heading? And how surrounding a word or phrase with asterisks (*) italicizes it? Markdown is a way to enter plain text, and make it look nicely formatted when it is finally rendered in a page. \n\nTo **render** a markdown cell, you just need to **run** it. You can do one of the following (you choose!):\n\n- Just hit **SHIFT + RETURN**\n\n- Click on the **Run** button on the toolbar\n\n- Click on the **Cell** menu (above the toolbar) and select **Run Cells**\n\n\n\n"
    },
    {
      "metadata": {
        "cell_id": "3604c7cc-a2d8-4a98-9e24-90c27275200e"
      },
      "cell_type": "markdown",
      "source": "<div class=\"alert alert-block alert-info\">\n<b>NOW YOU TRY!</b>  Double-click on this cell to enter EDIT mode and try writing anything you want below in different formats. How fancy can you get? Remember, you can always double-click the cell above for hints or even Google more options! \n</div>"
    },
    {
      "metadata": {
        "cell_id": "2622ec28-882a-4b05-abed-516a8a625fe9",
        "tags": []
      },
      "cell_type": "markdown",
      "source": "<div class=\"alert alert-block alert-info\">\n<b>TRY THIS:</b> Select this cell. To delete this cell, just press: d d (the letter d twice). This is one of those \"keyboard shortcuts.\"\n</div>"
    },
    {
      "metadata": {
        "cell_id": "1f3c3a18-c7bb-4871-a973-1b87f8f315b0",
        "tags": []
      },
      "cell_type": "markdown",
      "source": "<div class=\"alert alert-block alert-success\">\n\n### 4.0 - Approximate Time: 5-8 mins"
    },
    {
      "metadata": {
        "cell_id": "ec85850f-2a0c-428b-99bc-ac811ffad690"
      },
      "cell_type": "markdown",
      "source": "## 4.0 - Code Cells\n\nThe cell right below this one is a code cell. One way to instantly see that it's a code cell is that it has `In [  ]:` to the left of it (the `In` means input).\n\nBy now you probably recognize the R code in the cell below: it tells R to print out the phrase \"Hello World.\"  \n\nSelect the cell below and then **run** it (**SHIFT + ENTER**). \n"
    },
    {
      "metadata": {
        "cell_id": "4ce15f07-a898-40c2-a135-58f9ad87511a",
        "output_cleared": true,
        "trusted": true
      },
      "cell_type": "code",
      "source": "print(\"Hello World\")",
      "execution_count": null,
      "outputs": []
    },
    {
      "metadata": {
        "cell_id": "326c9898-0689-4f87-ba65-ec2ed60a61c3"
      },
      "cell_type": "markdown",
      "source": "Notice that two things happened when you ran the code cell:\n- The output of the code (`[1] \"Hello World\"`) appeared right below the code.\n- The `In [ ]` changed to `In [1]`\n\nWhat do you think the `[1]` means where it says `In [1]`? Try running the cell again. How does it change? What do you think the number means?\n"
    },
    {
      "metadata": {
        "cell_id": "2fe4775b-112b-4cb2-8082-a19dcffbaabc",
        "tags": []
      },
      "cell_type": "markdown",
      "source": "<div class=\"alert alert-block alert-warning\">\n\nThe `[1]` changes to `[2]` when you run it again. The number tells us the number of times we have run the cell."
    },
    {
      "metadata": {
        "cell_id": "ef3bdfaf-9b4e-449e-a10f-e784d794f9bd"
      },
      "cell_type": "markdown",
      "source": "<div class=\"alert alert-block alert-info\">\n<b>TRY THIS:</b> Try writing and running some R code below using <b>SHIFT + RETURN</b>. Try writing some R code and running it.\n</div>"
    },
    {
      "metadata": {
        "cell_id": "19a4e88c-895e-479f-9b6d-c9b72a3bfa78",
        "output_cleared": true,
        "trusted": true
      },
      "cell_type": "code",
      "source": "# Here is an example\n(20 + 5) * 4\n\n# You can write more R code here!",
      "execution_count": null,
      "outputs": []
    },
    {
      "metadata": {
        "cell_id": "cbd3a7b6-f1e5-417d-948f-fa79f8d8fcda",
        "tags": []
      },
      "cell_type": "markdown",
      "source": "<div class=\"alert alert-block alert-success\">\n\n### 5.0 - Approximate Time: 5-8 mins"
    },
    {
      "metadata": {
        "cell_id": "c4e00350-139f-4a40-95c0-fcca765f1d69"
      },
      "cell_type": "markdown",
      "source": "## 5.0 - Order Matters\n\nA key reason data scientists use Jupyter Notebooks to share their work is that they are reproducible. This means that if you share your notebook with someone else, if they run your notebook top to bottom they will get the same results that you got. This is a great way to share your work, have other people check out your work, and let you know if you made any mistakes. It also gives them a way to fix your mistakes, and send you back the fix!\n\nAn important thing to remember is that notebooks, to be reproducible, often need to be run in order from the top. Sometimes, if you start re-running things from the middle, it messes things up, not the least of which is your thinking!\n\nLet's try an example. Let's say that we want to measure the length of a newborn baby and save the result in an R object called **length**. The baby was 2 feet long. Run the code below to store 2 (feet) into **length**.\n"
    },
    {
      "metadata": {
        "cell_id": "3f3e84f1-4fda-4f5b-b0bf-e9e82b5b4912",
        "output_cleared": true,
        "trusted": true
      },
      "cell_type": "code",
      "source": "length <- 2\n\n# just writing length will print it out\nlength",
      "execution_count": null,
      "outputs": []
    },
    {
      "metadata": {
        "cell_id": "4136d80f-95c8-4e4a-9160-17922eae805e"
      },
      "cell_type": "markdown",
      "source": "So far so good. But now let's say that instead of feet we want to save the length in inches. Run the code below. "
    },
    {
      "metadata": {
        "cell_id": "3fb5921b-5bb5-4180-ab3a-b3de5b5e2da2",
        "output_cleared": true,
        "trusted": true
      },
      "cell_type": "code",
      "source": "length <- length / 12\n\nlength",
      "execution_count": null,
      "outputs": []
    },
    {
      "metadata": {
        "cell_id": "fd4a2e39-36e2-4dd3-aeae-d714236d0c53"
      },
      "cell_type": "markdown",
      "source": "Oops! Does the answer make sense? What did we do wrong? \n\nInstead of *multiplying* the 2 feet by the 12 to get 24 inches, we accidentally *divided*! Now change the above division(/) to multiplication(*) and re-run the code cell.\n\nDo you get 24 inches like you expected? Why not? \n\nWe still don't get the answer because **length** had 0.166666666666667 stored in it previously so that is what we are now multiplying by 12. To fix this, you must run all the previous code cells OR go to **Cell** from the menu bar and then select **Run All**. This will re-run all the cells in the whole notebook.\n\nYou should now see the correct value of 24.\n"
    },
    {
      "metadata": {
        "cell_id": "1a3d33af-7c9b-477c-a16e-a695226bb4cd",
        "tags": []
      },
      "cell_type": "markdown",
      "source": "<div class=\"alert alert-block alert-success\">\n\n### 6.0 - Approximate Time: 5-10 mins"
    },
    {
      "metadata": {
        "cell_id": "de99a3fe-fa1c-498c-ba8c-52d2ed504a0f"
      },
      "cell_type": "markdown",
      "source": "## 6.0 - Debugging R Code and Common Errors\n\nAs we learn more about R and programming, we are also going to learn about and practice the “culture of programming”. What do you think this means?\n\nAs we start off learning to code, we will also need to learn how to debug errors. The best way to learn this kind of troubleshooting is practice! To get you started, here are a few common errors to look out for (since R is so picky!).\n\n**Common errors to look out for:**\n- Parentheses (not enough or too many)\n- Quotation marks (not enough or too many)\n- Spelling errors or capitalization errors\n- The order of the code on each line\n\nYou can also try to read the error messages that R gives you for clues, such as which line of code has the error, or if there are extra/missing symbols (Tip: go to **View** then **Toggle Line Numbers** if you want to see the numbering for each line of code). \n\n"
    },
    {
      "metadata": {
        "cell_id": "bd72a907-e6ca-4832-b483-6b20bdab2692",
        "output_cleared": true,
        "trusted": true
      },
      "cell_type": "code",
      "source": "#Run this code and try and see if you can figure out how to debug it based on the error message:\n\nfarm <- c(\"horse\", \"goat\", \"pig\", \"chicken\")\njungle <- c(\"jaguar\", elephant\", \"hippo\")\n\nanimals <- c(farm, jungle)\n",
      "execution_count": null,
      "outputs": []
    },
    {
      "metadata": {
        "cell_id": "ea2fb5e0-8c74-4d7d-8f5d-82b9ef25bc74",
        "tags": []
      },
      "cell_type": "markdown",
      "source": "<div class=\"alert alert-block alert-warning\">\n\n**Sample Response**\n\nThe error message is telling us that something is wrong on code line 4 and the ^ symbol is pointing to the word **elephant**. The word **elephant** is missing a quotation mark at the beginning. "
    },
    {
      "metadata": {
        "cell_id": "abc0bac3-8ca9-4572-bf95-a38a963a574b",
        "output_cleared": true,
        "trusted": true
      },
      "cell_type": "code",
      "source": "#Compare that error message to the one from this code and try and debug:\n\nfarm <- c(\"horse\", \"goat\", \"pig\", \"chicken\")\njungle <- c(\"jaguar\", \"elephant\", \"hippo\")\n\nanimals <- c(farm; jungle)\n",
      "execution_count": null,
      "outputs": []
    },
    {
      "metadata": {
        "cell_id": "df28a3db-dd96-45b4-9af2-4337708cc224",
        "tags": []
      },
      "cell_type": "markdown",
      "source": "<div class=\"alert alert-block alert-warning\">\n\n**Sample Response**\n\nThis error message is telling us that something is wrong on line 6 and the ^ symbol is pointing to the semicolon after **farm**. It should be a comma."
    },
    {
      "metadata": {
        "cell_id": "f47d0768-325b-4bb4-83fb-89254e05662e"
      },
      "cell_type": "markdown",
      "source": "The R error messages tend to use a lot of jargon and are not always easy to understand, so don’t worry if they don’t make much sense. Just think of them as clues from the computer that you have to figure out! It's kind of like trying to understand an alien species.\n\nIn the examples above, what are some strategies for trying to figure out error messages?"
    },
    {
      "metadata": {
        "cell_id": "441e597a-7780-4460-9e44-89d89f21a13e",
        "tags": []
      },
      "cell_type": "markdown",
      "source": "<div class=\"alert alert-block alert-warning\">\n\n**Sample Response**\n\nPossible strategies:\n\n- Read the description of the error looking for key words\n- See if it tells us which line(s) of code to look at\n- Check for a ^ symbol (aka \"caret\" symbol) to see if points toward a specific error\n\nStudents may come up with many more strategies."
    },
    {
      "metadata": {
        "cell_id": "87c27c57-e31e-48fc-9328-26fa8d1b9a4c",
        "tags": []
      },
      "cell_type": "markdown",
      "source": "<div class=\"alert alert-block alert-success\">\n\n### 7.0 - Approximate Time: 10-15 mins"
    },
    {
      "metadata": {
        "cell_id": "8c8a4be6-2162-4549-958c-d916af14f95d"
      },
      "cell_type": "markdown",
      "source": "## 7.0 - Explore!\n\nIf you hover above each of the buttons in the toolbar, you will see text show up to tell you what they are. Try using the buttons to do the following:"
    },
    {
      "metadata": {
        "cell_id": "7df1d08f-3c39-403d-99e8-8e8624ae1eeb",
        "tags": []
      },
      "cell_type": "markdown",
      "source": "7.1 - Save your work (frequently)! Which button would you use for that?"
    },
    {
      "metadata": {
        "cell_id": "589cca04-f646-447f-ab50-a7b30f3017f4",
        "tags": []
      },
      "cell_type": "markdown",
      "source": "<div class=\"alert alert-block alert-warning\">\n\n**Sample Response**\n\nThe button that looks like a floppy disk (i.e., the \"Save\" icon, below \"File\")"
    },
    {
      "metadata": {
        "cell_id": "993b70c2-4ffb-473f-9d45-972276806d23",
        "tags": []
      },
      "cell_type": "markdown",
      "source": "7.2 - Insert your own Code cell below. You can use a button above or press **b** for below (use **a** for above). "
    },
    {
      "metadata": {
        "cell_id": "f8cf4540-ee50-44a3-93ab-7bdebf2a79b1",
        "output_cleared": true,
        "tags": [],
        "trusted": true
      },
      "cell_type": "code",
      "source": "# Sample Response:\n# For the capes, don't forget the tiny image for \"Doll Man!\"\ncape <- 7\ncoat <- 6\ncape + coat",
      "execution_count": null,
      "outputs": []
    },
    {
      "metadata": {
        "cell_id": "ab85b377-6b63-4e14-a3f4-ab73bb074ffd",
        "tags": []
      },
      "cell_type": "markdown",
      "source": "7.3 - In your newly inserted code block:\n\n- count the characters below wearing a *cape* and save that into an object called `cape`.\n- count the characters below wearing a *coat* and save that into an object called `coat`.\n- what will you get if you try running the code `cape + coat` after doing that?\n\n<img src=\"https://i.imgur.com/RHx7pIT.png\" title=\"assorted superheroes with a variety of features\" />"
    },
    {
      "metadata": {
        "cell_id": "de0defdf-add2-4a3c-8cb5-44052885187d",
        "tags": []
      },
      "cell_type": "markdown",
      "source": "7.4 - Add another code block below. Try using comparison operators (such as `==` or `>`) to see if there are an equal number of caped or coated superheroes."
    },
    {
      "metadata": {
        "cell_id": "51b0303c-679a-4f5b-8953-12727e6512ae",
        "output_cleared": true,
        "tags": [],
        "trusted": true
      },
      "cell_type": "code",
      "source": "# Sample Response\ncape == coat\ncape > coat",
      "execution_count": null,
      "outputs": []
    },
    {
      "metadata": {
        "cell_id": "1c3ac1d8-b3c5-40eb-8094-ad35ecccbcc0",
        "tags": []
      },
      "cell_type": "markdown",
      "source": "<div class=\"alert alert-block alert-success\">\n\n### 8.0 - Approximate Time: 3-5 mins"
    },
    {
      "metadata": {
        "cell_id": "55b41ca7-f077-44f6-9929-f0094cb49da2"
      },
      "cell_type": "markdown",
      "source": "## 8.0 - Closing up\n\nRemember, Jupyter notebooks are for *your use* so you can customize it in a way that is most helpful to YOU! For example, you can add Markdown cells for your own notes or answers; you can write some answers right below questions; you can use comments (that start with #) within code cells to annotate your answers. If any questions come up that you want to ask later, you can write those questions in as well! \n\nAnd finally, when you exit, *be sure to Close and Halt* the notebook instead of just closing the browser. This will ensure that you do not run out of memory. If too many people forget to do this, these jupyter notebooks will be slow for everyone!\n\nTo close a notebook, go to **File -> Close and Halt**. \n\nMaybe say to yourself, **Don't be at fault, CLOSE and HALT!**"
    }
  ],
  "metadata": {
    "deepnote_execution_queue": [],
    "deepnote_notebook_id": "e1373acd-63e9-41bc-a0d0-f32d27f4014b",
    "kernelspec": {
      "name": "ir",
      "display_name": "R",
      "language": "R"
    },
    "language_info": {
      "name": "R",
      "codemirror_mode": "r",
      "pygments_lexer": "r",
      "mimetype": "text/x-r-source",
      "file_extension": ".r",
      "version": "3.6.3"
    }
  },
  "nbformat": 4,
  "nbformat_minor": 2
}