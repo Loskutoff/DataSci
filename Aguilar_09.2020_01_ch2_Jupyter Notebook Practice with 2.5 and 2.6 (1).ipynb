{
  "cells": [
    {
      "cell_type": "markdown",
      "metadata": {},
      "source": "## 2E Jupyter Notebook Practice 2.5 thru 2.8"
    },
    {
      "cell_type": "markdown",
      "metadata": {},
      "source": "### What is your name and class period?   "
    },
    {
      "cell_type": "code",
      "execution_count": null,
      "metadata": {
        "trusted": true
      },
      "outputs": [],
      "source": "# Run this code to load the required packages\nsuppressMessages(suppressWarnings(suppressPackageStartupMessages({\n  library(mosaic)\n  library(supernova)\n  library(fivethirtyeight)\n})))"
    },
    {
      "cell_type": "markdown",
      "metadata": {},
      "source": "1. Fill in the blank\n\n> A _______________ is a numerical measurement describing some characteristic of a population.\n\n\n> A _______________ is a numerical measurement describing some characteristic of a sample.\n"
    },
    {
      "cell_type": "markdown",
      "metadata": {},
      "source": "2.  Example: There are 17,246,372 high school students in the United States.  In a study of 8505 U.S. high school students 16 years of age or older, 44.5% of them said that they texted while driving at least once during the previous 30 days (based on data in “Texting While Driving and Other Risky Motor Vehicle Behaviors Among US High School Students,” by Olsen, Shults, Eaton, Pediatrics, Vo. 131, No. 6).  Identify the parameters and statistics involved in the aforementioned study.\n\n>  the parameters are:\n\n> the statistics are: \n\n"
    },
    {
      "cell_type": "markdown",
      "metadata": {},
      "source": "3.  **In statistics, we collect sample data (both quantitative and categorical) and use them to make inferences, or conclusions, about the population from which the data were obtained.  The terms statistic and parameter are used to distinguish between cases in which we have data for a sample, and cases in which we have data for an entire population.**\n\nHow do we select a sample?  Fill in the blanks to address that!\n\nMost of the data sets we will be working with assume that our sample is independently and randomly chosen from the population.\n\nFor a sample to be ___________, every object in the population must have an equal probability of being selected for the study.  While it may be difficult to select a sample that is truly random, we try our best to obtain a sample that is representative of the population we are trying to learn about.\n\n_______________ means that the selection of one object for a study has no effect on the selection of another object.  This is important because if two objects are not independent, and instead are similar to each other on whatever outcome variable we might be studying, then this could lead us to draw erroneous conclusions from our data.\n\nSampling Variation:\n\nEvery sample we take, especially if they are small samples, will vary – which means the samples will be different from one another.  Further, no sample will be perfectly representative of the population.  \n\nThis type of variation is called _______________ or _______________, and it can be either biased or unbiased.\n\n\n"
    },
    {
      "cell_type": "markdown",
      "metadata": {},
      "source": "4.   Let’s use R to help us better understand this idea of sampling…\n\nSuppose the population we are interest in is the players in the NBA last season (2018-2019).  Here’s the dataset: https://tinyurl.com/nbaheights.   Let's call the Dataframe NBAHeights?   Don't forget to go through the process of grabbing the data using the process described in class from section 2.6  "
    },
    {
      "cell_type": "code",
      "execution_count": null,
      "metadata": {
        "trusted": true
      },
      "outputs": [],
      "source": "# remember this code is generic:  you'll have to change the DataFrameName, \n#and replace the url with the one that has our data!\nDataFrameName <- read.csv(\"https://url.com\", header=TRUE)\n"
    },
    {
      "cell_type": "markdown",
      "metadata": {},
      "source": "5.  Sneak peek at histograms coming up soon!  What does a display of this data look like?  Run the code below. "
    },
    {
      "cell_type": "code",
      "execution_count": null,
      "metadata": {
        "trusted": true
      },
      "outputs": [],
      "source": "gf_histogram(~Height, data=NBAHeights, binwidth=1)"
    },
    {
      "cell_type": "markdown",
      "metadata": {},
      "source": "5.   In section 2.5 you read about sampling with r.  Do you remember what command to use?   Let's take a sample of 30 from the dataframe NBAHeights that you just created!   You'll have to write the code in the box below. "
    },
    {
      "cell_type": "code",
      "execution_count": null,
      "metadata": {
        "trusted": true
      },
      "outputs": [],
      "source": ""
    },
    {
      "cell_type": "markdown",
      "metadata": {},
      "source": "6. But wait!   We need to save it into an object so that we can reference these numbers!   Let's call it NBAHeightsSample.  Add code to the code cell above to store it, then make a histogram of the data.   "
    },
    {
      "cell_type": "markdown",
      "metadata": {},
      "source": "7.  Finally, let's run that box a few times to see how the sample, and the display, changes. \n > Does the display look the same each time?  \n \n > What observations do you notice as you repeat the sampling process? \n"
    },
    {
      "cell_type": "markdown",
      "metadata": {},
      "source": "## Submit, close and halt.  "
    }
  ],
  "metadata": {
    "celltoolbar": "nbsimplegrader",
    "kernelspec": {
      "display_name": "R",
      "language": "R",
      "name": "ir"
    },
    "language_info": {
      "codemirror_mode": "r",
      "file_extension": ".r",
      "mimetype": "text/x-r-source",
      "name": "R",
      "pygments_lexer": "r",
      "version": "3.6.3"
    },
    "nbsimplegrader": {
      "is_published": false,
      "publish_config": {
        "options": {
          "include_submit": true,
          "lock_notebook": false
        },
        "tools": []
      }
    }
  },
  "nbformat": 4,
  "nbformat_minor": 4
}