{
  "cells": [
    {
      "metadata": {
        "cell_id": "461de7f7-8cf7-4fa2-b95d-d595f8e5fbaa"
      },
      "cell_type": "markdown",
      "source": "<div class=\"alert alert-block alert-danger\">\n\n# 1B: Westvaco - The Whole Thing (COMPLETE)\n"
    },
    {
      "metadata": {
        "cell_id": "05d2f5a1-1dc8-4f01-8c1a-07e6b47b37fb",
        "tags": []
      },
      "cell_type": "markdown",
      "source": "<div class=\"alert alert-block alert-success\">\n\n## Approximate time to complete Notebook: 45-60 Mins"
    },
    {
      "metadata": {
        "cell_id": "ea398f91-88ce-4619-a4da-8f9112717782",
        "tags": []
      },
      "cell_type": "markdown",
      "source": "<div class=\"alert alert-block alert-success\">\n\n### Intro - Approximate Time: 3-5 mins"
    },
    {
      "metadata": {
        "cell_id": "c901d61d-08a2-49a3-a966-301a5c86e26b",
        "tags": []
      },
      "cell_type": "markdown",
      "source": "At the beginning of each Jupyter notebook, we must load the packages that we are going to use within the notebook. We usually copy/paste this code from one of our other jupyter notebooks! \n\nAlways run this first or a lot of our other code won't work.\n\nWhen you run it, you will not see any output, but you will see the `In[]:` (on the left) change to include a number (such as `In[1]:`) to indicate that it ran properly. If you see an asterisk in it, like this `In[*]:`, it means it is still running. \n"
    },
    {
      "metadata": {
        "cell_id": "bdfd07d4-a710-4aa2-9e4e-dfd741352592",
        "trusted": true
      },
      "cell_type": "code",
      "source": "# This code will load the R packages we will use\n\nsuppressMessages(suppressWarnings(suppressPackageStartupMessages({\n  library(mosaic)\n  library(supernova)\n  library(Lock5withR)})))\n",
      "execution_count": null,
      "outputs": []
    },
    {
      "metadata": {
        "cell_id": "15bbdb56-9bc4-4ae6-addb-46639f421149",
        "tags": []
      },
      "cell_type": "markdown",
      "source": "### This is a Weird Lesson\n\nToday we'll take a tour through *all the important concepts we will cover in this class*. So it's a weird lesson. You aren't expected to understand everything we talk about today. But we want you to see how it will all fit together. \n\nWe figure if you have a sense of the whole story of statistics and how it gets used, then when we learn all the little details, you'll have a better sense of why they are important."
    },
    {
      "metadata": {
        "cell_id": "6c568fac-e9f7-4663-8dff-f4a8a55158f5"
      },
      "cell_type": "markdown",
      "source": "### The Case of Martin vs. Westvaco\n\nBack in 1994, Robert Martin was laid off from his job at Westvaco, Inc., (an envelope company) soon after he turned 55 years old. Martin believed that he was fired because of his age and sued Westvaco for age discrimination. A major piece of Martin’s case was based on a statistical analysis of the ages of the Westvaco employees. We will be taking a look at small sample of the data that was part of this court case.\n\n\n"
    },
    {
      "metadata": {
        "cell_id": "5fe2bd7e-d4e0-4c25-9819-212d7d997ed7",
        "tags": []
      },
      "cell_type": "markdown",
      "source": "<div class=\"alert alert-block alert-success\">\n\n### 1.0 - Approximate Time: 8-10 mins"
    },
    {
      "metadata": {
        "cell_id": "3442f95e-21c8-456c-9da3-1cb29d0b4ce1"
      },
      "cell_type": "markdown",
      "source": "## 1.0 - The Data"
    },
    {
      "metadata": {
        "cell_id": "132e217c-d4eb-481a-9430-be73840bb599"
      },
      "cell_type": "markdown",
      "source": "This is data from one of Westvaco's departments. There were three employees that were fired from this department.\n- Ages of all the employees in this department: 25, 33, 35, 38, 48, 55, 55, 55, 56, 64\n- Ages of the three who were fired: 55, 55, 64"
    },
    {
      "metadata": {
        "cell_id": "025e06a3-8306-41f9-b6f5-1fcdae5688d2"
      },
      "cell_type": "markdown",
      "source": "1.1 - What *in the data* supports Martin's claim of age discrimination?"
    },
    {
      "metadata": {
        "cell_id": "888d01d0-e5fb-4290-bd4d-8bd5c31a54a3",
        "tags": []
      },
      "cell_type": "markdown",
      "source": "<div class=\"alert alert-block alert-warning\">\n\n**Sample Responses**\n- All 3 people who were fired were older.\n- Oldest person got fired. \n- No “young” people were fired."
    },
    {
      "metadata": {
        "cell_id": "865329e9-c07d-4a63-87dc-86521a5fcacb"
      },
      "cell_type": "markdown",
      "source": "1.2 - What *in the data* supports the company's claim that it was NOT age discrimination?\n"
    },
    {
      "metadata": {
        "cell_id": "d5f366eb-dd42-4143-8f70-652753dcbf24",
        "tags": []
      },
      "cell_type": "markdown",
      "source": "<div class=\"alert alert-block alert-warning\">\n\n**Sample Responses**\n- Half of the department was 55 or older.\n- Westvaco kept a 55 and 56-year-old, so not all people 55 and older were laid off"
    },
    {
      "metadata": {
        "cell_id": "b45ad740-ee6c-4dd5-b875-daed410ce366",
        "tags": []
      },
      "cell_type": "markdown",
      "source": "1.3 - We've put in the ages of all the employees into an object called `everyone`. Write some code to save the ages of the three *fired* employees into an object called `fired`. "
    },
    {
      "metadata": {
        "cell_id": "58950b8b-c79d-49a8-81e0-64cd48eb37cb",
        "trusted": true
      },
      "cell_type": "code",
      "source": "everyone <- c(25, 33, 35, 38, 48, 55, 55, 55, 56, 64)\n\n# Sample Response\nfired <- c(55, 55, 64)\n\n# If you write this code correctly, will it print anything out?\n## Nothing will print unless we type the name of the object",
      "execution_count": null,
      "outputs": []
    },
    {
      "metadata": {
        "cell_id": "64746e7f-ae81-46b8-8979-59a1309652a2"
      },
      "cell_type": "markdown",
      "source": "1.4 There is a function called `mean()`. We have written code to calculate the mean age for everyone. Write some code to calculate the mean age of the three people who were fired.\n"
    },
    {
      "metadata": {
        "cell_id": "a300aa25-bd52-4705-bd04-582c057bdcf3",
        "output_cleared": true,
        "tags": [],
        "trusted": true
      },
      "cell_type": "code",
      "source": "mean(everyone)\n\n# Sample Response\nmean(fired)",
      "execution_count": null,
      "outputs": []
    },
    {
      "metadata": {
        "cell_id": "5b1ffde5-9375-4abf-a182-9194c4a4ee87"
      },
      "cell_type": "markdown",
      "source": "1.5 - Take a moment to practice putting *meaning* onto this number. For example, what does the 58 stand for? Does this help Martin's side of the argument or Westvaco's?"
    },
    {
      "metadata": {
        "cell_id": "724e263d-3db4-4475-8508-837ace6c9d10",
        "tags": []
      },
      "cell_type": "markdown",
      "source": "<div class=\"alert alert-block alert-warning\">\n\n**Sample Responses**\n\n- Summary of three people who got fired.\n- The \"middle\" or average number. \n- It is higher than the mean for everyone in the department so it may help Martin."
    },
    {
      "metadata": {
        "cell_id": "5aba7c10-b1ef-4ca0-abb3-49dc3872b958",
        "tags": []
      },
      "cell_type": "markdown",
      "source": "<div class=\"alert alert-block alert-success\">\n\n### 2.0 - Approximate Time: 5-8 mins"
    },
    {
      "metadata": {
        "cell_id": "b45c0bf6-d333-4219-a0a2-97c96a2441e0"
      },
      "cell_type": "markdown",
      "source": "## 2.0 - The Data Generating Process (DGP)"
    },
    {
      "metadata": {
        "cell_id": "e0000f32-7c98-4572-a747-28bcede99212"
      },
      "cell_type": "markdown",
      "source": "We know that the people who were fired were older on average than the rest. But what we really want to know is *how* were these people fired? **What was the Data Generating Process (DGP)?**"
    },
    {
      "metadata": {
        "cell_id": "95371e99-3afb-4627-9e0e-dbbdcc53d711"
      },
      "cell_type": "markdown",
      "source": "2.1 - Age might have played a role. But maybe it didn't. Is it possible to have a completely fair process (e.g., randomly firing 3 people) and end up firing a group with an average age of 58? \n"
    },
    {
      "metadata": {
        "cell_id": "44d87446-b3be-45c5-bcba-9a30fac1e8f4",
        "tags": []
      },
      "cell_type": "markdown",
      "source": "<div class=\"alert alert-block alert-warning\">\n\n**Sample Response**\n- Yes, it is possible. "
    },
    {
      "metadata": {
        "cell_id": "33f7144e-c90a-4fe9-a600-ca7ac73d035c",
        "tags": []
      },
      "cell_type": "markdown",
      "source": "Without knowing exactly what happened in the brains of those who fired the three employees, the DGP is unknown. This one example is not enough to figure out the DGP because the *same* DGP can generate different samples! But we can come up with little theories (or models) of the DGP.\n\n2.2 - Here are some possible DPGs written as word equations:\n\n1. *FIRED = AGE + OTHER STUFF* (what is the other stuff?)\n> Martin thought that the decision to fire someone had something to do with age. But maybe some other stuff was involved too. \n\n2. *FIRED = TARDINESS + OTHER STUFF*  \n> Some people might think that the firing had a little bit to do with whether people were late to work.\n\n3. *Come up with another idea as a word equation*\n> **Sample Response**: FIRED = MISTAKES + OTHER STUFF; People who were fired made a lot of mistakes on the job.\n\n4. *How would you write Westvaco's claim that \"age had nothing to do with it\" as a word equation*\n> **Sample Response**: FIRED = OTHER STUFF"
    },
    {
      "metadata": {
        "cell_id": "e10b60a6-904d-4b59-8162-71560fcd1b96",
        "tags": []
      },
      "cell_type": "markdown",
      "source": "<div class=\"alert alert-block alert-success\">\n\n### 3.0 - Approximate Time: 10-15 mins"
    },
    {
      "metadata": {
        "cell_id": "a0e78812-ef0e-4855-b8c8-dcbc67d86f2f"
      },
      "cell_type": "markdown",
      "source": "## 3.0 - A Special DGP: Randomness \n"
    },
    {
      "metadata": {
        "cell_id": "b7c60add-5857-45b3-af0a-b6b39bc5732a"
      },
      "cell_type": "markdown",
      "source": "Although firing people randomly would be a terrible way to run a business, it is fair. Also, it's one that we can easily simulate. \n\n3.1 - If you pick three of the ten ages **25, 33, 35, 38, 48, 55, 55, 55, 56, 65** at random, do you think you are likely to get an average age of 58 or greater? Why or why not?\n"
    },
    {
      "metadata": {
        "cell_id": "25904d44-e318-444d-adfa-af3a30b4d667",
        "tags": []
      },
      "cell_type": "markdown",
      "source": "<div class=\"alert alert-block alert-warning\">\n\n**Sample Response**\n\nIt may not seem very likely because you would have to select ages that are 55 or greater and you would HAVE to pick 65 to get a mean of 58 or greater."
    },
    {
      "metadata": {
        "cell_id": "718babf6-9c27-4bbe-9ec7-27c098626033"
      },
      "cell_type": "markdown",
      "source": "Let's try it! Let’s simulate the process of randomly selecting three people to be fired.\n- Write down each of the ten ages of the people in the department on separate little (roughly equal size) pieces of scrap paper.\n- Mix up the pieces of paper, and, without looking, randomly select three “people” to be fired and calculate the mean of those three ages.\n\n3.2 - Did anyone get a kind of old-ish group? If we do get an oldish group, is it because one of us discriminated based on age? \n"
    },
    {
      "metadata": {
        "cell_id": "ec312917-c1d9-47de-8728-710a805f41f9",
        "tags": []
      },
      "cell_type": "markdown",
      "source": "<div class=\"alert alert-block alert-warning\">\n\n**Sample Response**\n\n*About 1 in 20 students should get a group that is 58 years or older on average.* \nIt could not be age discrimination because we were picking people randomly (we didn't care about their age)."
    },
    {
      "metadata": {
        "cell_id": "d0558429-fbcc-4d09-9bef-7fe085fa903f",
        "tags": []
      },
      "cell_type": "markdown",
      "source": "3.3 - With R, we won't need to tear up pieces of paper. We can choose three ages randomly with a click of a button! "
    },
    {
      "metadata": {
        "cell_id": "026196b4-0580-4f60-bf74-d2560aaba77f",
        "output_cleared": false,
        "scrolled": true,
        "trusted": true
      },
      "cell_type": "code",
      "source": "# This code randomly fires 1 person. \nsample(everyone, 1)\n\n# Modify it to fire 3 people randomly.\n# Sample Response\nsample(everyone, 3)\n",
      "execution_count": null,
      "outputs": []
    },
    {
      "metadata": {
        "cell_id": "8b7e2a01-2bd4-42dd-9425-76414e5b895c",
        "tags": []
      },
      "cell_type": "markdown",
      "source": "3.4 - The code below saves a random group of three people into an object called `fired.randomly`. Write some code to calculate the mean age of the three people fired randomly."
    },
    {
      "metadata": {
        "cell_id": "6f68a7c4-9454-4455-9641-0b7ed286a596",
        "output_cleared": true,
        "tags": [],
        "trusted": true
      },
      "cell_type": "code",
      "source": "fired.randomly <- sample(everyone, 3)\n\n# Sample Response 1\nmean(fired.randomly)\n\n# Sample Response 2\nsum(fired.randomly)/3\n# Add the ages and divide by 3\n",
      "execution_count": null,
      "outputs": []
    },
    {
      "metadata": {
        "cell_id": "64bb6bcb-5d59-4332-b826-c7c69c8f010d"
      },
      "cell_type": "markdown",
      "source": "3.3 - What was the mean age? Did anyone in your class end up firing three people with an average age of 58 or older? Was it because R practiced age discrimination?\n"
    },
    {
      "metadata": {
        "cell_id": "9a3a3b7d-1523-4d9a-896d-0f96998b6935",
        "tags": []
      },
      "cell_type": "markdown",
      "source": "<div class=\"alert alert-block alert-warning\">\n\n**Sample Response**\n\nR was not practicing age discrimination because it was just randomly selecting 3 numbers."
    },
    {
      "metadata": {
        "cell_id": "a24cdec2-8e57-439f-af30-450eaa55345d"
      },
      "cell_type": "markdown",
      "source": "3.4 - What would happen if you run the code again? Try it a few times. Do you always get the same mean age from firing randomly? How often do we get an average age of 58 or greater from firing randomly?\n"
    },
    {
      "metadata": {
        "cell_id": "fe7ad91e-f3f6-488d-8b68-e32f11cf919f",
        "tags": []
      },
      "cell_type": "markdown",
      "source": "<div class=\"alert alert-block alert-warning\">\n\n**Sample Response**\n\nThe code keeps picking different random samples and calculating the mean. We do not always get the same mean. An average age of 58 or greater does not seem to come up frequently."
    },
    {
      "metadata": {
        "cell_id": "bb23f996-18fe-4eec-afe2-668047a74f4c"
      },
      "cell_type": "markdown",
      "source": "3.5 - If the probability of getting an average age of 58 or greater turns out to be *small*, does this favor Martin or Westvaco? Why or why not?"
    },
    {
      "metadata": {
        "cell_id": "cc7ce165-ff64-4df4-b34b-3efdf910313e",
        "tags": []
      },
      "cell_type": "markdown",
      "source": "<div class=\"alert alert-block alert-warning\">\n\n**Sample Response**\n\nIt favors Martin because it seems unlikely to randomly fire 3 people and get an average age of 58 or greater."
    },
    {
      "metadata": {
        "cell_id": "1ad4ba94-60de-43bc-85ed-bcdabe9578b7",
        "tags": []
      },
      "cell_type": "markdown",
      "source": "<div class=\"alert alert-block alert-success\">\n\n### 4.0 - Approximate Time: 10-15 mins"
    },
    {
      "metadata": {
        "cell_id": "174058df-c729-45ac-abe6-d326207a0e77"
      },
      "cell_type": "markdown",
      "source": "## 4.0 - All the Possibilities: A Sampling Distribution"
    },
    {
      "metadata": {
        "cell_id": "c8eeb4cb-715e-4d6b-89ff-7aec5777450e"
      },
      "cell_type": "markdown",
      "source": "Now we can return to our two possible models of the DGP:\n\n1. *FIRED = AGE + OTHER STUFF*\n2. *FIRED = OTHER STUFF*\n\nWe have learned how to simulate firing people in a way that has *nothing to do with age*. A model of randomness is just all \"other stuff\". \n\nEven though it is hard to write down or even imagine all the possible ways that 10 people could get randomly fired, with R we can simulate doing this many, *many* times. Then we can see **how likely our actual data (e.g., a mean age of 58) would be to occur IF the second (completely random) model were true.**\n"
    },
    {
      "metadata": {
        "cell_id": "08442f7a-4b93-479f-8b72-8b5164de796f",
        "output_cleared": true,
        "trusted": true
      },
      "cell_type": "code",
      "source": "# Run the code below. How come only one number gets printed? \n# What is being stored into fired.rand?\n\nfired.rand <- mean(sample(everyone, 3))\nfired.rand",
      "execution_count": null,
      "outputs": []
    },
    {
      "metadata": {
        "cell_id": "1ce54e07-b148-40e4-829d-fc6aedac02aa",
        "tags": []
      },
      "cell_type": "markdown",
      "source": "<div class=\"alert alert-block alert-warning\">\n\n**Sample Response**\n\nIt is only printing one number because the code is calculating the mean of the three randomly sampled ages. It is storing the mean of the sample into `fired.rand`."
    },
    {
      "metadata": {
        "cell_id": "64e51d18-4f95-4345-b62d-5bba1373b0a0"
      },
      "cell_type": "markdown",
      "source": "4.1 Let's see what happens if you put `do(3) *` before the code `mean()` in the previous cell. What do you think this did? "
    },
    {
      "metadata": {
        "cell_id": "46d844b0-b194-4a94-b33b-bcb83648d437",
        "output_cleared": true,
        "trusted": true
      },
      "cell_type": "code",
      "source": "# original code provided to students\nfired.rand <- do(3) * mean(sample(everyone, 3))\nfired.rand\n\n# modification they are prompted to do in 4.4\nfired.rand <- do(1000) * mean(sample(everyone, 3))\nfired.rand",
      "execution_count": null,
      "outputs": []
    },
    {
      "metadata": {
        "cell_id": "9f073d87-a947-447c-9d9b-32df5dc27589",
        "tags": []
      },
      "cell_type": "markdown",
      "source": "<div class=\"alert alert-block alert-warning\">\n\n**Sample Response**\n\nThe `do(3)*` function is doing something 3 times."
    },
    {
      "metadata": {
        "cell_id": "2b4ca6dd-170c-4c19-8575-8a4ff4106dd1"
      },
      "cell_type": "markdown",
      "source": "4.3 - What does each row in this data frame represent?"
    },
    {
      "metadata": {
        "cell_id": "962be8dd-d38a-4bd1-b661-62f238918de4",
        "tags": []
      },
      "cell_type": "markdown",
      "source": "<div class=\"alert alert-block alert-warning\">\n\n**Sample Response**\n\nEach row represents a mean from 3 randomly sampled ages. "
    },
    {
      "metadata": {
        "cell_id": "dc6bd367-ad2f-4937-a93e-30335b000eb9",
        "tags": []
      },
      "cell_type": "markdown",
      "source": "4.4 - Try modifying the code above to do this 1000 times! Did it work? Is that a lot faster than shuffling pieces of paper a thousand times?"
    },
    {
      "metadata": {
        "cell_id": "bf2dbee9-a6d2-437f-a43c-25571f87c40e"
      },
      "cell_type": "markdown",
      "source": "### Graphing a sampling distribution\n\n4.5 - Notice that it's hard to look through 1000 numbers. That's why we will teach you methods of graphing throughout this class. Run the code below. Which part of this visualization represents times when \"oldish\" groups of people were fired? Which parts represent times when \"youngish\" groups of people were fired?"
    },
    {
      "metadata": {
        "cell_id": "6b6a8e5d-7e95-4b3b-89bd-f043dc162b9f",
        "output_cleared": true,
        "trusted": true
      },
      "cell_type": "code",
      "source": "# Run this code. This will make a visualization of the 1,000 mean ages of those fired from our last simulation. This is our sampling distribution.\ngf_histogram(~ mean, data=fired.rand, binwidth = 1, color = \"skyblue\")\n",
      "execution_count": null,
      "outputs": []
    },
    {
      "metadata": {
        "cell_id": "b47d8d06-f783-4b23-aa43-0d2ce33db530",
        "tags": []
      },
      "cell_type": "markdown",
      "source": "<div class=\"alert alert-block alert-warning\">\n\n**Sample Response**\n\nThe bars on the right side (high end of the x-axis) are of oldish groups, and the bars on the left side (low end of the x-axis) are of youngish groups."
    },
    {
      "metadata": {
        "cell_id": "b854792e-2488-4bce-9535-777a957b28aa",
        "tags": []
      },
      "cell_type": "markdown",
      "source": "4.6 - The code below will shade in the random samples that had average ages of 58 or higher. Is that a lot of the random samples? A little? Is the likelihood of generating a sample that old high? Medium? Low?"
    },
    {
      "metadata": {
        "cell_id": "8146fd4f-72a0-45c6-b652-176bfbd15b22",
        "output_cleared": true,
        "trusted": true
      },
      "cell_type": "code",
      "source": "gf_histogram(~ mean, data=fired.rand, binwidth = 1, color = \"white\", fill=~mean>=58)\n",
      "execution_count": null,
      "outputs": []
    },
    {
      "metadata": {
        "cell_id": "5aef776a-87cf-4042-8fe6-17bdb8efdac2",
        "tags": []
      },
      "cell_type": "markdown",
      "source": "<div class=\"alert alert-block alert-warning\">\n\n**Sample Response**\n\nThere appears to be only a few samples that have an average age of 58 or higher. The likelihood seems low."
    },
    {
      "metadata": {
        "cell_id": "c5d796d5-f3a0-44f3-87b8-15dc8c566f16"
      },
      "cell_type": "markdown",
      "source": "### Using the sampling distribution\n\nLet's use the sampling distribution to help us think about our previous question: How likely is it that we would have obtained an average age of 58 for fired employees if we had just fired people randomly?\n\nR can quickly count up how many means were greater than or equal to 58."
    },
    {
      "metadata": {
        "cell_id": "0ad5e879-f285-42ae-a586-c431f58adcec",
        "output_cleared": true,
        "trusted": true
      },
      "cell_type": "code",
      "source": "# Run this code.\n# 4.7 - How many of the 1000 simulated samples had a mean age of 58 or greater?\n\ntally(~ mean >= 58, data=fired.rand)",
      "execution_count": null,
      "outputs": []
    },
    {
      "metadata": {
        "cell_id": "670408a7-3cbf-4414-8502-93d3591502bc",
        "output_cleared": true,
        "trusted": true
      },
      "cell_type": "code",
      "source": "# Run this code. \n# 4.8 - What proportion of the 1000 simulated samples had a mean age of 58 or greater?\n\ntally(~ mean >= 58, data=fired.rand, format=\"proportion\")",
      "execution_count": null,
      "outputs": []
    },
    {
      "metadata": {
        "cell_id": "515cf2c1-b3b1-4d5a-9315-60251be129d4",
        "tags": []
      },
      "cell_type": "markdown",
      "source": "<div class=\"alert alert-block alert-success\">\n\n### 5.0 - Approximate Time: 5-8 mins"
    },
    {
      "metadata": {
        "cell_id": "04589a0b-aad7-4f63-9a7d-06a1c9959928"
      },
      "cell_type": "markdown",
      "source": "## 5.0 - The Whole Thing"
    },
    {
      "metadata": {
        "cell_id": "ab13e60c-2cfa-4608-9e37-b59ec0c59d5c"
      },
      "cell_type": "markdown",
      "source": "5.1 - If the probability of getting an average age of 58 or greater turns out to be small, does this favor Martin or Westvaco? Why?"
    },
    {
      "metadata": {
        "cell_id": "96a052eb-8533-4c39-afee-c91ce6aa8b38",
        "tags": []
      },
      "cell_type": "markdown",
      "source": "<div class=\"alert alert-block alert-warning\">\n\n**Sample Response**\n\nIt favors Martin, because it tells us that it is very unlikely that you could randomly pick three people to be fired and get such a high average age. This suggests there may have been another reason (DGP) for firing those people, namely, potential age discrimination."
    },
    {
      "metadata": {
        "cell_id": "9bef55d0-2ecc-49c8-950d-56d0cb820e2a"
      },
      "cell_type": "markdown",
      "source": "<a href=\"https://imgur.com/GyMlOwy\"><img src=\"https://i.imgur.com/GyMlOwy.png\" title=\"source: imgur.com\" /></a>"
    },
    {
      "metadata": {
        "cell_id": "299b1ede-bb19-4334-8bf6-e3949818940d",
        "tags": []
      },
      "cell_type": "markdown",
      "source": "<div class=\"alert alert-block alert-warning\">\n\n**Sample Explanation for Graphic**\n\n(Note: This organization using the three distributions of statistics, we call this the distribution triad, comes up repeatedly in course videos starting in chapter 4. We use it to align multiple examples to each other even though they are each in a different context.)\n\n1. We almost always start by just taking a look at the data... and data only represent a sample (sometimes we call this the empirical sample). \nIn the Westvaco case, we looked at the data for the people that were actually fired and those that were not fired. Things like 58 represent something about this sample.\n\n2. But in statistics, we are often interested in the Data Generating Process: how was that sample data generated? The hard thing about statistics is that we rarely have access to the actual DGP! But we can make little theories (or models) of the DGP.\nHere, we wondered -- could the DGP have had something to do with age? (e.g., FIRED = AGE + OTHER STUFF) Or did it have nothing to do with age? (e.g., FIRED = OTHER STUFF)\n\n3. Even though we can't look directly at the DGP, we can mimic a **random** DGP! We can mimic a random process that does NOT fire people based on age (or anything else). With computers, we can do this thousands of times! We can then wonder, \"Hm, even if we used a completely random process, sometimes we get a sample that looks like our empirical sample. Did our empirical sample come from a process like this random sample? Or from some other process?\""
    },
    {
      "metadata": {
        "cell_id": "a6dd7d9b-ed30-43ea-aa2a-0be396d88611",
        "tags": []
      },
      "cell_type": "markdown",
      "source": "### By default, please close and halt!"
    }
  ],
  "metadata": {
    "deepnote_execution_queue": [],
    "deepnote_notebook_id": "13513631-9fd7-4550-9c06-1107e685eadc",
    "kernelspec": {
      "name": "ir",
      "display_name": "R",
      "language": "R"
    },
    "language_info": {
      "name": "R",
      "codemirror_mode": "r",
      "pygments_lexer": "r",
      "mimetype": "text/x-r-source",
      "file_extension": ".r",
      "version": "3.6.3"
    }
  },
  "nbformat": 4,
  "nbformat_minor": 2
}